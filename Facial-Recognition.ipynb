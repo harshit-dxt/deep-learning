{
  "nbformat": 4,
  "nbformat_minor": 0,
  "metadata": {
    "colab": {
      "name": "ML_project.ipynb",
      "provenance": [],
      "toc_visible": true,
      "authorship_tag": "ABX9TyOgOiu+KGBEDn0gwmyItfB/",
      "include_colab_link": true
    },
    "kernelspec": {
      "name": "python3",
      "display_name": "Python 3"
    }
  },
  "cells": [
    {
      "cell_type": "markdown",
      "metadata": {
        "id": "view-in-github",
        "colab_type": "text"
      },
      "source": [
        "<a href=\"https://colab.research.google.com/github/harshit-dxt/deep-learning/blob/main/Facial-Recognition.ipynb\" target=\"_parent\"><img src=\"https://colab.research.google.com/assets/colab-badge.svg\" alt=\"Open In Colab\"/></a>"
      ]
    },
    {
      "cell_type": "markdown",
      "metadata": {
        "id": "QRFn9F_ET7sU"
      },
      "source": [
        "## Kaggle dataset download"
      ]
    },
    {
      "cell_type": "code",
      "metadata": {
        "id": "RwB8ckeJTK6G"
      },
      "source": [
        "!pip install -q kaggle"
      ],
      "execution_count": null,
      "outputs": []
    },
    {
      "cell_type": "code",
      "metadata": {
        "colab": {
          "resources": {
            "http://localhost:8080/nbextensions/google.colab/files.js": {
              "data": "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",
              "ok": true,
              "headers": [
                [
                  "content-type",
                  "application/javascript"
                ]
              ],
              "status": 200,
              "status_text": "OK"
            }
          },
          "base_uri": "https://localhost:8080/",
          "height": 92
        },
        "id": "u_qqejDCT2Sx",
        "outputId": "eb63df9e-4727-4050-b909-f19e9292d456"
      },
      "source": [
        "from google.colab import files\n",
        "\n",
        "files.upload()"
      ],
      "execution_count": null,
      "outputs": [
        {
          "output_type": "display_data",
          "data": {
            "text/html": [
              "\n",
              "     <input type=\"file\" id=\"files-c3625209-5594-4e1e-b942-4322e772abd2\" name=\"files[]\" multiple disabled\n",
              "        style=\"border:none\" />\n",
              "     <output id=\"result-c3625209-5594-4e1e-b942-4322e772abd2\">\n",
              "      Upload widget is only available when the cell has been executed in the\n",
              "      current browser session. Please rerun this cell to enable.\n",
              "      </output>\n",
              "      <script src=\"/nbextensions/google.colab/files.js\"></script> "
            ],
            "text/plain": [
              "<IPython.core.display.HTML object>"
            ]
          },
          "metadata": {
            "tags": []
          }
        },
        {
          "output_type": "stream",
          "text": [
            "Saving kaggle.json to kaggle.json\n"
          ],
          "name": "stdout"
        },
        {
          "output_type": "execute_result",
          "data": {
            "text/plain": [
              "{'kaggle.json': b'{\"username\":\"harshitdixit\",\"key\":\"0e2f940fd529c8b5558a8f87d0f43f17\"}'}"
            ]
          },
          "metadata": {
            "tags": []
          },
          "execution_count": 2
        }
      ]
    },
    {
      "cell_type": "code",
      "metadata": {
        "id": "scWQ2PxoUFJJ"
      },
      "source": [
        "! mkdir ~/.kaggle\n",
        "\n",
        "! cp kaggle.json ~/.kaggle/"
      ],
      "execution_count": null,
      "outputs": []
    },
    {
      "cell_type": "code",
      "metadata": {
        "id": "OyOFomTCUOT-"
      },
      "source": [
        " ! chmod 600 ~/.kaggle/kaggle.json"
      ],
      "execution_count": null,
      "outputs": []
    },
    {
      "cell_type": "code",
      "metadata": {
        "colab": {
          "base_uri": "https://localhost:8080/"
        },
        "id": "lmePnJanUTOd",
        "outputId": "6e6d2bc4-6255-4cf9-c85f-b4f9f31a40ee"
      },
      "source": [
        " ! kaggle datasets list"
      ],
      "execution_count": null,
      "outputs": [
        {
          "output_type": "stream",
          "text": [
            "Warning: Looks like you're using an outdated API Version, please consider updating (server 1.5.10 / client 1.5.4)\n",
            "ref                                                          title                                           size  lastUpdated          downloadCount  \n",
            "-----------------------------------------------------------  ---------------------------------------------  -----  -------------------  -------------  \n",
            "alexgude/california-traffic-collision-data-from-switrs       California Traffic Collision Data from SWITRS    1GB  2020-11-22 16:51:55            597  \n",
            "babyoda/women-entrepreneurship-and-labor-force               Women Entrepreneurship and Labor Force           1KB  2020-11-21 08:38:51           1818  \n",
            "szymonjanowski/internet-articles-data-with-users-engagement  Internet news data with readers engagement       3MB  2020-11-21 17:09:57            804  \n",
            "sakshigoyal7/credit-card-customers                           Credit Card customers                          379KB  2020-11-19 07:38:44           3385  \n",
            "imoore/2020-us-general-election-turnout-rates                2020 US General Election Turnout rates           4KB  2020-11-26 00:21:15           1215  \n",
            "afrniomelo/3w-dataset                                        3W Dataset - Undesirable events in oil wells   658MB  2020-11-21 21:22:49            117  \n",
            "mrmorj/us-politicians-twitter-dataset                        US Politicians Twitter Dataset                  68KB  2020-11-23 09:54:05            312  \n",
            "patrickb1912/ipl-complete-dataset-20082020                   IPL Complete Dataset (2008-2020)                 1MB  2020-11-23 06:53:37            834  \n",
            "arioboo/clumps-in-vela-galaxy-images                         Clumps in VELA galaxy images                     8MB  2020-11-23 13:42:09             97  \n",
            "shivamb/netflix-shows                                        Netflix Movies and TV Shows                    971KB  2020-01-20 07:33:56          67642  \n",
            "unanimad/us-election-2020                                    US Election 2020                               428KB  2020-12-02 00:24:23          10018  \n",
            "manchunhui/us-election-2020-tweets                           US Election 2020 Tweets                        353MB  2020-11-09 18:51:59           3980  \n",
            "sootersaalu/amazon-top-50-bestselling-books-2009-2019        Amazon Top 50 Bestselling Books 2009 - 2019     15KB  2020-10-13 09:39:21           7123  \n",
            "antgoldbloom/covid19-data-from-john-hopkins-university       COVID-19 data from John Hopkins University       3MB  2020-12-02 06:04:37           5646  \n",
            "terenceshin/covid19s-impact-on-airport-traffic               COVID-19's Impact on Airport Traffic           106KB  2020-10-19 12:40:17           6372  \n",
            "nehaprabhavalkar/indian-food-101                             Indian Food 101                                  7KB  2020-09-30 06:23:43           8818  \n",
            "datasnaek/youtube-new                                        Trending YouTube Video Statistics              201MB  2019-06-03 00:56:47         118453  \n",
            "zynicide/wine-reviews                                        Wine Reviews                                    51MB  2017-11-27 17:08:04         121282  \n",
            "google/tinyquickdraw                                         QuickDraw Sketches                              11GB  2018-04-18 19:38:04           2565  \n",
            "karangadiya/fifa19                                           FIFA 19 complete player dataset                  2MB  2018-12-21 03:52:59         107036  \n"
          ],
          "name": "stdout"
        }
      ]
    },
    {
      "cell_type": "code",
      "metadata": {
        "colab": {
          "base_uri": "https://localhost:8080/"
        },
        "id": "I_77gH29UVdz",
        "outputId": "866c6dd4-2714-4fac-e828-3818f4de09c1"
      },
      "source": [
        "! kaggle datasets download -d nipunarora8/age-gender-and-ethnicity-face-data-csv"
      ],
      "execution_count": null,
      "outputs": [
        {
          "output_type": "stream",
          "text": [
            "Downloading age-gender-and-ethnicity-face-data-csv.zip to /content\n",
            " 90% 57.0M/63.2M [00:00<00:00, 57.2MB/s]\n",
            "100% 63.2M/63.2M [00:00<00:00, 81.2MB/s]\n"
          ],
          "name": "stdout"
        }
      ]
    },
    {
      "cell_type": "code",
      "metadata": {
        "colab": {
          "base_uri": "https://localhost:8080/"
        },
        "id": "IB-b15MUUxBT",
        "outputId": "6d29b715-95bf-4676-cf06-1130bc785cf3"
      },
      "source": [
        "!mkdir train\n",
        "!unzip age-gender-and-ethnicity-face-data-csv.zip -d train"
      ],
      "execution_count": null,
      "outputs": [
        {
          "output_type": "stream",
          "text": [
            "Archive:  age-gender-and-ethnicity-face-data-csv.zip\n",
            "  inflating: train/age_gender.csv    \n"
          ],
          "name": "stdout"
        }
      ]
    },
    {
      "cell_type": "markdown",
      "metadata": {
        "id": "y9YS7Sp9VXer"
      },
      "source": [
        "## Importing libraries"
      ]
    },
    {
      "cell_type": "code",
      "metadata": {
        "id": "8nwWFwHjU-er"
      },
      "source": [
        "import numpy as np\n",
        "import pandas as pd\n",
        "import matplotlib.pyplot as plt\n",
        "import tensorflow as tf\n",
        "import tensorflow.keras.layers as L\n",
        "from sklearn.model_selection import train_test_split\n",
        "import plotly.graph_objects as go\n",
        "import plotly.express as px\n",
        "tf.random.set_seed(42)"
      ],
      "execution_count": null,
      "outputs": []
    },
    {
      "cell_type": "markdown",
      "metadata": {
        "id": "eJ-jRRPjVtC0"
      },
      "source": [
        "## Reading the dataset"
      ]
    },
    {
      "cell_type": "code",
      "metadata": {
        "id": "60GuwRsCVq5r"
      },
      "source": [
        "data = pd.read_csv('./train/age_gender.csv')"
      ],
      "execution_count": null,
      "outputs": []
    },
    {
      "cell_type": "code",
      "metadata": {
        "id": "-s_nptfYV3yk"
      },
      "source": [
        "data['pixels'] = data['pixels'].apply(lambda x:  np.array(x.split(), dtype=\"float32\")) # converting pixels into a numpy array"
      ],
      "execution_count": null,
      "outputs": []
    },
    {
      "cell_type": "markdown",
      "metadata": {
        "id": "NYLD-x0ZWSd0"
      },
      "source": [
        "### Peek into the data"
      ]
    },
    {
      "cell_type": "code",
      "metadata": {
        "colab": {
          "base_uri": "https://localhost:8080/",
          "height": 206
        },
        "id": "BFqi7PKQWNVd",
        "outputId": "4f59e7e6-de90-49a4-e6ef-76d2b6bc6954"
      },
      "source": [
        "data.head()"
      ],
      "execution_count": null,
      "outputs": [
        {
          "output_type": "execute_result",
          "data": {
            "text/html": [
              "<div>\n",
              "<style scoped>\n",
              "    .dataframe tbody tr th:only-of-type {\n",
              "        vertical-align: middle;\n",
              "    }\n",
              "\n",
              "    .dataframe tbody tr th {\n",
              "        vertical-align: top;\n",
              "    }\n",
              "\n",
              "    .dataframe thead th {\n",
              "        text-align: right;\n",
              "    }\n",
              "</style>\n",
              "<table border=\"1\" class=\"dataframe\">\n",
              "  <thead>\n",
              "    <tr style=\"text-align: right;\">\n",
              "      <th></th>\n",
              "      <th>age</th>\n",
              "      <th>ethnicity</th>\n",
              "      <th>gender</th>\n",
              "      <th>img_name</th>\n",
              "      <th>pixels</th>\n",
              "    </tr>\n",
              "  </thead>\n",
              "  <tbody>\n",
              "    <tr>\n",
              "      <th>0</th>\n",
              "      <td>1</td>\n",
              "      <td>2</td>\n",
              "      <td>0</td>\n",
              "      <td>20161219203650636.jpg.chip.jpg</td>\n",
              "      <td>[129.0, 128.0, 128.0, 126.0, 127.0, 130.0, 133...</td>\n",
              "    </tr>\n",
              "    <tr>\n",
              "      <th>1</th>\n",
              "      <td>1</td>\n",
              "      <td>2</td>\n",
              "      <td>0</td>\n",
              "      <td>20161219222752047.jpg.chip.jpg</td>\n",
              "      <td>[164.0, 74.0, 111.0, 168.0, 169.0, 171.0, 175....</td>\n",
              "    </tr>\n",
              "    <tr>\n",
              "      <th>2</th>\n",
              "      <td>1</td>\n",
              "      <td>2</td>\n",
              "      <td>0</td>\n",
              "      <td>20161219222832191.jpg.chip.jpg</td>\n",
              "      <td>[67.0, 70.0, 71.0, 70.0, 69.0, 67.0, 70.0, 79....</td>\n",
              "    </tr>\n",
              "    <tr>\n",
              "      <th>3</th>\n",
              "      <td>1</td>\n",
              "      <td>2</td>\n",
              "      <td>0</td>\n",
              "      <td>20161220144911423.jpg.chip.jpg</td>\n",
              "      <td>[193.0, 197.0, 198.0, 200.0, 199.0, 200.0, 202...</td>\n",
              "    </tr>\n",
              "    <tr>\n",
              "      <th>4</th>\n",
              "      <td>1</td>\n",
              "      <td>2</td>\n",
              "      <td>0</td>\n",
              "      <td>20161220144914327.jpg.chip.jpg</td>\n",
              "      <td>[202.0, 205.0, 209.0, 210.0, 209.0, 209.0, 210...</td>\n",
              "    </tr>\n",
              "  </tbody>\n",
              "</table>\n",
              "</div>"
            ],
            "text/plain": [
              "   age  ...                                             pixels\n",
              "0    1  ...  [129.0, 128.0, 128.0, 126.0, 127.0, 130.0, 133...\n",
              "1    1  ...  [164.0, 74.0, 111.0, 168.0, 169.0, 171.0, 175....\n",
              "2    1  ...  [67.0, 70.0, 71.0, 70.0, 69.0, 67.0, 70.0, 79....\n",
              "3    1  ...  [193.0, 197.0, 198.0, 200.0, 199.0, 200.0, 202...\n",
              "4    1  ...  [202.0, 205.0, 209.0, 210.0, 209.0, 209.0, 210...\n",
              "\n",
              "[5 rows x 5 columns]"
            ]
          },
          "metadata": {
            "tags": []
          },
          "execution_count": 28
        }
      ]
    },
    {
      "cell_type": "code",
      "metadata": {
        "colab": {
          "base_uri": "https://localhost:8080/"
        },
        "id": "eDjqqWxmWUeK",
        "outputId": "6bab07f4-8772-46d8-d583-858b61926879"
      },
      "source": [
        "print('Total rows: {}'.format(len(data)))\n",
        "print('Total columns: {}'.format(len(data.columns)))"
      ],
      "execution_count": null,
      "outputs": [
        {
          "output_type": "stream",
          "text": [
            "Total rows: 23705\n",
            "Total columns: 5\n"
          ],
          "name": "stdout"
        }
      ]
    },
    {
      "cell_type": "markdown",
      "metadata": {
        "id": "XBxwSQvFDD9q"
      },
      "source": [
        "### Sample images"
      ]
    },
    {
      "cell_type": "code",
      "metadata": {
        "colab": {
          "base_uri": "https://localhost:8080/",
          "height": 692
        },
        "id": "hqLEYa0oDFgH",
        "outputId": "ff256623-96d4-404f-d151-4fe39c4328d3"
      },
      "source": [
        "plt.figure(figsize=(16,16))\n",
        "for i in range(1500,1520):\n",
        "    plt.subplot(5,5,(i%25)+1)\n",
        "    plt.xticks([])\n",
        "    plt.yticks([])\n",
        "    plt.grid(False)\n",
        "    plt.imshow(data['pixels'].iloc[i].reshape(48,48))\n",
        "    plt.xlabel(\n",
        "        \"Age:\"+str(data['age'].iloc[i])+\n",
        "        \"  Gender:\"+ str(data['gender'].iloc[i])\n",
        "    )\n",
        "plt.show()"
      ],
      "execution_count": null,
      "outputs": [
        {
          "output_type": "display_data",
          "data": {
            "image/png": "[encoded data removed]",
            "text/plain": [
              "<Figure size 1152x1152 with 20 Axes>"
            ]
          },
          "metadata": {
            "tags": []
          }
        }
      ]
    },
    {
      "cell_type": "markdown",
      "metadata": {
        "id": "zBQl1JECXXTs"
      },
      "source": [
        "## Age detection - A regression problem on image dataset"
      ]
    },
    {
      "cell_type": "markdown",
      "metadata": {
        "id": "sgyKWaY_Ypry"
      },
      "source": [
        "### Normalizing the pixels"
      ]
    },
    {
      "cell_type": "code",
      "metadata": {
        "id": "WxWCDtHdXUvE"
      },
      "source": [
        "data['pixels'] = data['pixels'].apply(lambda x: x/255) # Min-Max normalisation"
      ],
      "execution_count": null,
      "outputs": []
    },
    {
      "cell_type": "markdown",
      "metadata": {
        "id": "15m_vHRcfL86"
      },
      "source": [
        "### Distribution Plot function"
      ]
    },
    {
      "cell_type": "code",
      "metadata": {
        "id": "FCCuU2qyfPRf"
      },
      "source": [
        "def distribution_plot(x,y,name):\n",
        "    fig = go.Figure([\n",
        "        go.Bar(x=x, y=y)\n",
        "    ])\n",
        "\n",
        "    fig.update_layout(title_text=name)\n",
        "    fig.show()"
      ],
      "execution_count": null,
      "outputs": []
    },
    {
      "cell_type": "markdown",
      "metadata": {
        "id": "mrJJ3n_ZfIiO"
      },
      "source": [
        "### Age distribution Plot"
      ]
    },
    {
      "cell_type": "code",
      "metadata": {
        "colab": {
          "base_uri": "https://localhost:8080/",
          "height": 542
        },
        "id": "9k3dNBkXZQy2",
        "outputId": "c6fd0374-86fd-41a8-8981-d23a23bc075f"
      },
      "source": [
        "age_dist = data['age'].value_counts()\n",
        "distribution_plot(x=age_dist.index, y=age_dist.values, name='Age Distribution')"
      ],
      "execution_count": null,
      "outputs": [
        {
          "output_type": "display_data",
          "data": {
            "text/html": [
              "<html>\n",
              "<head><meta charset=\"utf-8\" /></head>\n",
              "<body>\n",
              "    <div>\n",
              "            <script src=\"https://cdnjs.cloudflare.com/ajax/libs/mathjax/2.7.5/MathJax.js?config=TeX-AMS-MML_SVG\"></script><script type=\"text/javascript\">if (window.MathJax) {MathJax.Hub.Config({SVG: {font: \"STIX-Web\"}});}</script>\n",
              "                <script type=\"text/javascript\">window.PlotlyConfig = {MathJaxConfig: 'local'};</script>\n",
              "        <script src=\"https://cdn.plot.ly/plotly-latest.min.js\"></script>    \n",
              "            <div id=\"b31b3d7d-098e-4c49-ba99-c4c10a4e0a44\" class=\"plotly-graph-div\" style=\"height:525px; width:100%;\"></div>\n",
              "            <script type=\"text/javascript\">\n",
              "                \n",
              "                    window.PLOTLYENV=window.PLOTLYENV || {};\n",
              "                    \n",
              "                if (document.getElementById(\"b31b3d7d-098e-4c49-ba99-c4c10a4e0a44\")) {\n",
              "                    Plotly.newPlot(\n",
              "                        'b31b3d7d-098e-4c49-ba99-c4c10a4e0a44',\n",
              "                        [{\"type\": \"bar\", \"x\": [26, 1, 28, 35, 24, 25, 30, 32, 27, 29, 40, 36, 2, 45, 23, 34, 22, 50, 54, 31, 21, 38, 60, 37, 3, 20, 4, 58, 55, 42, 39, 8, 18, 65, 16, 53, 56, 52, 5, 15, 47, 9, 61, 17, 43, 14, 10, 85, 46, 48, 75, 49, 70, 33, 7, 51, 80, 41, 6, 12, 62, 63, 44, 68, 19, 72, 57, 67, 59, 90, 13, 66, 78, 11, 73, 76, 69, 64, 82, 86, 88, 71, 89, 74, 77, 84, 79, 81, 83, 96, 92, 100, 87, 95, 99, 105, 93, 110, 116, 115, 101, 91, 103, 111], \"y\": [2197, 1123, 918, 880, 859, 734, 724, 664, 615, 570, 526, 483, 482, 440, 426, 409, 395, 381, 353, 350, 346, 325, 293, 293, 289, 284, 273, 271, 268, 266, 265, 263, 262, 259, 247, 241, 236, 232, 196, 177, 170, 166, 159, 158, 157, 157, 156, 155, 153, 153, 148, 148, 147, 143, 139, 138, 133, 132, 131, 130, 125, 103, 100, 100, 98, 98, 97, 94, 82, 82, 81, 77, 69, 65, 63, 58, 56, 50, 40, 35, 34, 33, 33, 32, 28, 24, 23, 22, 18, 17, 13, 11, 10, 9, 9, 5, 5, 5, 4, 3, 2, 2, 1, 1]}],\n",
              "                        {\"template\": {\"data\": {\"bar\": [{\"error_x\": {\"color\": \"#2a3f5f\"}, \"error_y\": {\"color\": \"#2a3f5f\"}, \"marker\": {\"line\": {\"color\": \"#E5ECF6\", \"width\": 0.5}}, \"type\": \"bar\"}], \"barpolar\": [{\"marker\": {\"line\": {\"color\": \"#E5ECF6\", \"width\": 0.5}}, \"type\": \"barpolar\"}], \"carpet\": [{\"aaxis\": {\"endlinecolor\": \"#2a3f5f\", \"gridcolor\": \"white\", \"linecolor\": \"white\", \"minorgridcolor\": \"white\", \"startlinecolor\": \"#2a3f5f\"}, \"baxis\": {\"endlinecolor\": \"#2a3f5f\", \"gridcolor\": \"white\", \"linecolor\": \"white\", \"minorgridcolor\": \"white\", \"startlinecolor\": \"#2a3f5f\"}, \"type\": \"carpet\"}], \"choropleth\": [{\"colorbar\": {\"outlinewidth\": 0, \"ticks\": \"\"}, \"type\": \"choropleth\"}], \"contour\": [{\"colorbar\": {\"outlinewidth\": 0, \"ticks\": \"\"}, \"colorscale\": [[0.0, \"#0d0887\"], [0.1111111111111111, \"#46039f\"], [0.2222222222222222, \"#7201a8\"], [0.3333333333333333, \"#9c179e\"], [0.4444444444444444, \"#bd3786\"], [0.5555555555555556, \"#d8576b\"], [0.6666666666666666, \"#ed7953\"], [0.7777777777777778, \"#fb9f3a\"], [0.8888888888888888, \"#fdca26\"], [1.0, \"#f0f921\"]], \"type\": \"contour\"}], \"contourcarpet\": [{\"colorbar\": {\"outlinewidth\": 0, \"ticks\": \"\"}, \"type\": \"contourcarpet\"}], \"heatmap\": [{\"colorbar\": {\"outlinewidth\": 0, \"ticks\": \"\"}, \"colorscale\": [[0.0, \"#0d0887\"], [0.1111111111111111, \"#46039f\"], [0.2222222222222222, \"#7201a8\"], [0.3333333333333333, \"#9c179e\"], [0.4444444444444444, \"#bd3786\"], [0.5555555555555556, \"#d8576b\"], [0.6666666666666666, \"#ed7953\"], [0.7777777777777778, \"#fb9f3a\"], [0.8888888888888888, \"#fdca26\"], [1.0, \"#f0f921\"]], \"type\": \"heatmap\"}], \"heatmapgl\": [{\"colorbar\": {\"outlinewidth\": 0, \"ticks\": \"\"}, \"colorscale\": [[0.0, \"#0d0887\"], [0.1111111111111111, \"#46039f\"], [0.2222222222222222, \"#7201a8\"], [0.3333333333333333, \"#9c179e\"], [0.4444444444444444, \"#bd3786\"], [0.5555555555555556, \"#d8576b\"], [0.6666666666666666, \"#ed7953\"], [0.7777777777777778, \"#fb9f3a\"], [0.8888888888888888, \"#fdca26\"], [1.0, \"#f0f921\"]], \"type\": \"heatmapgl\"}], \"histogram\": [{\"marker\": {\"colorbar\": {\"outlinewidth\": 0, \"ticks\": \"\"}}, \"type\": \"histogram\"}], \"histogram2d\": [{\"colorbar\": {\"outlinewidth\": 0, \"ticks\": \"\"}, \"colorscale\": [[0.0, \"#0d0887\"], [0.1111111111111111, \"#46039f\"], [0.2222222222222222, \"#7201a8\"], [0.3333333333333333, \"#9c179e\"], [0.4444444444444444, \"#bd3786\"], [0.5555555555555556, \"#d8576b\"], [0.6666666666666666, \"#ed7953\"], [0.7777777777777778, \"#fb9f3a\"], [0.8888888888888888, \"#fdca26\"], [1.0, \"#f0f921\"]], \"type\": \"histogram2d\"}], \"histogram2dcontour\": [{\"colorbar\": {\"outlinewidth\": 0, \"ticks\": \"\"}, \"colorscale\": [[0.0, \"#0d0887\"], [0.1111111111111111, \"#46039f\"], [0.2222222222222222, \"#7201a8\"], [0.3333333333333333, \"#9c179e\"], [0.4444444444444444, \"#bd3786\"], [0.5555555555555556, \"#d8576b\"], [0.6666666666666666, \"#ed7953\"], [0.7777777777777778, \"#fb9f3a\"], [0.8888888888888888, \"#fdca26\"], [1.0, \"#f0f921\"]], \"type\": \"histogram2dcontour\"}], \"mesh3d\": [{\"colorbar\": {\"outlinewidth\": 0, \"ticks\": \"\"}, \"type\": \"mesh3d\"}], \"parcoords\": [{\"line\": {\"colorbar\": {\"outlinewidth\": 0, \"ticks\": \"\"}}, \"type\": \"parcoords\"}], \"pie\": [{\"automargin\": true, \"type\": \"pie\"}], \"scatter\": [{\"marker\": {\"colorbar\": {\"outlinewidth\": 0, \"ticks\": \"\"}}, \"type\": \"scatter\"}], \"scatter3d\": [{\"line\": {\"colorbar\": {\"outlinewidth\": 0, \"ticks\": \"\"}}, \"marker\": {\"colorbar\": {\"outlinewidth\": 0, \"ticks\": \"\"}}, \"type\": \"scatter3d\"}], \"scattercarpet\": [{\"marker\": {\"colorbar\": {\"outlinewidth\": 0, \"ticks\": \"\"}}, \"type\": \"scattercarpet\"}], \"scattergeo\": [{\"marker\": {\"colorbar\": {\"outlinewidth\": 0, \"ticks\": \"\"}}, \"type\": \"scattergeo\"}], \"scattergl\": [{\"marker\": {\"colorbar\": {\"outlinewidth\": 0, \"ticks\": \"\"}}, \"type\": \"scattergl\"}], \"scattermapbox\": [{\"marker\": {\"colorbar\": {\"outlinewidth\": 0, \"ticks\": \"\"}}, \"type\": \"scattermapbox\"}], \"scatterpolar\": [{\"marker\": {\"colorbar\": {\"outlinewidth\": 0, \"ticks\": \"\"}}, \"type\": \"scatterpolar\"}], \"scatterpolargl\": [{\"marker\": {\"colorbar\": {\"outlinewidth\": 0, \"ticks\": \"\"}}, \"type\": \"scatterpolargl\"}], \"scatterternary\": [{\"marker\": {\"colorbar\": {\"outlinewidth\": 0, \"ticks\": \"\"}}, \"type\": \"scatterternary\"}], \"surface\": [{\"colorbar\": {\"outlinewidth\": 0, \"ticks\": \"\"}, \"colorscale\": [[0.0, \"#0d0887\"], [0.1111111111111111, \"#46039f\"], [0.2222222222222222, \"#7201a8\"], [0.3333333333333333, \"#9c179e\"], [0.4444444444444444, \"#bd3786\"], [0.5555555555555556, \"#d8576b\"], [0.6666666666666666, \"#ed7953\"], [0.7777777777777778, \"#fb9f3a\"], [0.8888888888888888, \"#fdca26\"], [1.0, \"#f0f921\"]], \"type\": \"surface\"}], \"table\": [{\"cells\": {\"fill\": {\"color\": \"#EBF0F8\"}, \"line\": {\"color\": \"white\"}}, \"header\": {\"fill\": {\"color\": \"#C8D4E3\"}, \"line\": {\"color\": \"white\"}}, \"type\": \"table\"}]}, \"layout\": {\"annotationdefaults\": {\"arrowcolor\": \"#2a3f5f\", \"arrowhead\": 0, \"arrowwidth\": 1}, \"coloraxis\": {\"colorbar\": {\"outlinewidth\": 0, \"ticks\": \"\"}}, \"colorscale\": {\"diverging\": [[0, \"#8e0152\"], [0.1, \"#c51b7d\"], [0.2, \"#de77ae\"], [0.3, \"#f1b6da\"], [0.4, \"#fde0ef\"], [0.5, \"#f7f7f7\"], [0.6, \"#e6f5d0\"], [0.7, \"#b8e186\"], [0.8, \"#7fbc41\"], [0.9, \"#4d9221\"], [1, \"#276419\"]], \"sequential\": [[0.0, \"#0d0887\"], [0.1111111111111111, \"#46039f\"], [0.2222222222222222, \"#7201a8\"], [0.3333333333333333, \"#9c179e\"], [0.4444444444444444, \"#bd3786\"], [0.5555555555555556, \"#d8576b\"], [0.6666666666666666, \"#ed7953\"], [0.7777777777777778, \"#fb9f3a\"], [0.8888888888888888, \"#fdca26\"], [1.0, \"#f0f921\"]], \"sequentialminus\": [[0.0, \"#0d0887\"], [0.1111111111111111, \"#46039f\"], [0.2222222222222222, \"#7201a8\"], [0.3333333333333333, \"#9c179e\"], [0.4444444444444444, \"#bd3786\"], [0.5555555555555556, \"#d8576b\"], [0.6666666666666666, \"#ed7953\"], [0.7777777777777778, \"#fb9f3a\"], [0.8888888888888888, \"#fdca26\"], [1.0, \"#f0f921\"]]}, \"colorway\": [\"#636efa\", \"#EF553B\", \"#00cc96\", \"#ab63fa\", \"#FFA15A\", \"#19d3f3\", \"#FF6692\", \"#B6E880\", \"#FF97FF\", \"#FECB52\"], \"font\": {\"color\": \"#2a3f5f\"}, \"geo\": {\"bgcolor\": \"white\", \"lakecolor\": \"white\", \"landcolor\": \"#E5ECF6\", \"showlakes\": true, \"showland\": true, \"subunitcolor\": \"white\"}, \"hoverlabel\": {\"align\": \"left\"}, \"hovermode\": \"closest\", \"mapbox\": {\"style\": \"light\"}, \"paper_bgcolor\": \"white\", \"plot_bgcolor\": \"#E5ECF6\", \"polar\": {\"angularaxis\": {\"gridcolor\": \"white\", \"linecolor\": \"white\", \"ticks\": \"\"}, \"bgcolor\": \"#E5ECF6\", \"radialaxis\": {\"gridcolor\": \"white\", \"linecolor\": \"white\", \"ticks\": \"\"}}, \"scene\": {\"xaxis\": {\"backgroundcolor\": \"#E5ECF6\", \"gridcolor\": \"white\", \"gridwidth\": 2, \"linecolor\": \"white\", \"showbackground\": true, \"ticks\": \"\", \"zerolinecolor\": \"white\"}, \"yaxis\": {\"backgroundcolor\": \"#E5ECF6\", \"gridcolor\": \"white\", \"gridwidth\": 2, \"linecolor\": \"white\", \"showbackground\": true, \"ticks\": \"\", \"zerolinecolor\": \"white\"}, \"zaxis\": {\"backgroundcolor\": \"#E5ECF6\", \"gridcolor\": \"white\", \"gridwidth\": 2, \"linecolor\": \"white\", \"showbackground\": true, \"ticks\": \"\", \"zerolinecolor\": \"white\"}}, \"shapedefaults\": {\"line\": {\"color\": \"#2a3f5f\"}}, \"ternary\": {\"aaxis\": {\"gridcolor\": \"white\", \"linecolor\": \"white\", \"ticks\": \"\"}, \"baxis\": {\"gridcolor\": \"white\", \"linecolor\": \"white\", \"ticks\": \"\"}, \"bgcolor\": \"#E5ECF6\", \"caxis\": {\"gridcolor\": \"white\", \"linecolor\": \"white\", \"ticks\": \"\"}}, \"title\": {\"x\": 0.05}, \"xaxis\": {\"automargin\": true, \"gridcolor\": \"white\", \"linecolor\": \"white\", \"ticks\": \"\", \"title\": {\"standoff\": 15}, \"zerolinecolor\": \"white\", \"zerolinewidth\": 2}, \"yaxis\": {\"automargin\": true, \"gridcolor\": \"white\", \"linecolor\": \"white\", \"ticks\": \"\", \"title\": {\"standoff\": 15}, \"zerolinecolor\": \"white\", \"zerolinewidth\": 2}}}, \"title\": {\"text\": \"Age Distribution\"}},\n",
              "                        {\"responsive\": true}\n",
              "                    ).then(function(){\n",
              "                            \n",
              "var gd = document.getElementById('b31b3d7d-098e-4c49-ba99-c4c10a4e0a44');\n",
              "var x = new MutationObserver(function (mutations, observer) {{\n",
              "        var display = window.getComputedStyle(gd).display;\n",
              "        if (!display || display === 'none') {{\n",
              "            console.log([gd, 'removed!']);\n",
              "            Plotly.purge(gd);\n",
              "            observer.disconnect();\n",
              "        }}\n",
              "}});\n",
              "\n",
              "// Listen for the removal of the full notebook cells\n",
              "var notebookContainer = gd.closest('#notebook-container');\n",
              "if (notebookContainer) {{\n",
              "    x.observe(notebookContainer, {childList: true});\n",
              "}}\n",
              "\n",
              "// Listen for the clearing of the current output cell\n",
              "var outputEl = gd.closest('.output');\n",
              "if (outputEl) {{\n",
              "    x.observe(outputEl, {childList: true});\n",
              "}}\n",
              "\n",
              "                        })\n",
              "                };\n",
              "                \n",
              "            </script>\n",
              "        </div>\n",
              "</body>\n",
              "</html>"
            ]
          },
          "metadata": {
            "tags": []
          }
        }
      ]
    },
    {
      "cell_type": "markdown",
      "metadata": {
        "id": "9uRwtlYupmZd"
      },
      "source": [
        "### Train test split and other preprocessing"
      ]
    },
    {
      "cell_type": "code",
      "metadata": {
        "id": "a7pW043lfk6W"
      },
      "source": [
        "X = np.array(data['pixels'].tolist())\n",
        "\n",
        "\"\"\"\n",
        "Reshaping X into (D, H, W, C) \n",
        "D - number of data points\n",
        "H - Height of image\n",
        "W - Width of image\n",
        "C - number of channels in the image\n",
        "\"\"\"\n",
        "\n",
        "X = X.reshape(X.shape[0], 48, 48, 1) \n",
        "\n",
        "y = data['age']\n",
        "\n",
        "X_train, X_test, y_train, y_test = train_test_split(\n",
        "    X, y, test_size=0.20, random_state=37, shuffle=True\n",
        "    )"
      ],
      "execution_count": null,
      "outputs": []
    },
    {
      "cell_type": "markdown",
      "metadata": {
        "id": "wt24HcvzqvR0"
      },
      "source": [
        "### Compiling the model"
      ]
    },
    {
      "cell_type": "code",
      "metadata": {
        "id": "d4FKqcT2iIW_"
      },
      "source": [
        "model = tf.keras.Sequential(name=\"ReviveNet\")\n",
        "model.add(tf.keras.Input(shape=(48,48,1)))\n",
        "model.add(L.Conv2D(32, 3, activation='relu'))\n",
        "model.add(L.BatchNormalization())\n",
        "model.add(L.MaxPool2D(pool_size=(2,2))),\n",
        "model.add(L.Conv2D(64, 3, activation='relu'))\n",
        "model.add(L.MaxPool2D(pool_size=(2,2)))\n",
        "model.add(L.Conv2D(128, 3, activation='relu'))\n",
        "model.add(L.MaxPool2D(pool_size=(2,2)))\n",
        "model.add(L.Flatten())\n",
        "model.add(L.Dense(64, activation='relu'))\n",
        "model.add(L.Dropout(0.5))\n",
        "model.add(L.Dense(1, activation='relu'))\n",
        "\n",
        "\n",
        "\n",
        "model.compile(optimizer='adam',\n",
        "              loss='mean_squared_error',\n",
        "              metrics=['mae'])"
      ],
      "execution_count": null,
      "outputs": []
    },
    {
      "cell_type": "markdown",
      "metadata": {
        "id": "xlKJI78MlZci"
      },
      "source": [
        "### Model summary"
      ]
    },
    {
      "cell_type": "code",
      "metadata": {
        "colab": {
          "base_uri": "https://localhost:8080/"
        },
        "id": "jpz3F81plPt_",
        "outputId": "147c2b28-8770-4cfb-84cf-238a22cf2dc1"
      },
      "source": [
        "print(model.summary())"
      ],
      "execution_count": null,
      "outputs": [
        {
          "output_type": "stream",
          "text": [
            "Model: \"ReviveNet\"\n",
            "_________________________________________________________________\n",
            "Layer (type)                 Output Shape              Param #   \n",
            "=================================================================\n",
            "conv2d_3 (Conv2D)            (None, 46, 46, 32)        320       \n",
            "_________________________________________________________________\n",
            "batch_normalization_1 (Batch (None, 46, 46, 32)        128       \n",
            "_________________________________________________________________\n",
            "max_pooling2d_3 (MaxPooling2 (None, 23, 23, 32)        0         \n",
            "_________________________________________________________________\n",
            "conv2d_4 (Conv2D)            (None, 21, 21, 64)        18496     \n",
            "_________________________________________________________________\n",
            "max_pooling2d_4 (MaxPooling2 (None, 10, 10, 64)        0         \n",
            "_________________________________________________________________\n",
            "conv2d_5 (Conv2D)            (None, 8, 8, 128)         73856     \n",
            "_________________________________________________________________\n",
            "max_pooling2d_5 (MaxPooling2 (None, 4, 4, 128)         0         \n",
            "_________________________________________________________________\n",
            "flatten_1 (Flatten)          (None, 2048)              0         \n",
            "_________________________________________________________________\n",
            "dense_2 (Dense)              (None, 64)                131136    \n",
            "_________________________________________________________________\n",
            "dropout_1 (Dropout)          (None, 64)                0         \n",
            "_________________________________________________________________\n",
            "dense_3 (Dense)              (None, 1)                 65        \n",
            "=================================================================\n",
            "Total params: 224,001\n",
            "Trainable params: 223,937\n",
            "Non-trainable params: 64\n",
            "_________________________________________________________________\n",
            "None\n"
          ],
          "name": "stdout"
        }
      ]
    },
    {
      "cell_type": "markdown",
      "metadata": {
        "id": "02vo6ZZdl5WY"
      },
      "source": [
        "### Training the model"
      ]
    },
    {
      "cell_type": "code",
      "metadata": {
        "colab": {
          "base_uri": "https://localhost:8080/"
        },
        "id": "EcFn2iCrla23",
        "outputId": "febef8d9-89be-4395-b48d-4c6c6d402d6c"
      },
      "source": [
        "history = model.fit(\n",
        "    X_train, y_train, epochs=20, validation_split=0.1, batch_size=64, #callbacks=[callback]\n",
        ")"
      ],
      "execution_count": null,
      "outputs": [
        {
          "output_type": "stream",
          "text": [
            "Epoch 1/20\n",
            "267/267 [==============================] - 2s 8ms/step - loss: 324.9323 - mae: 13.5732 - val_loss: 1141.1042 - val_mae: 28.1914\n",
            "Epoch 2/20\n",
            "267/267 [==============================] - 2s 7ms/step - loss: 205.0025 - mae: 10.8059 - val_loss: 395.1454 - val_mae: 15.1383\n",
            "Epoch 3/20\n",
            "267/267 [==============================] - 2s 7ms/step - loss: 171.1024 - mae: 9.7368 - val_loss: 163.5464 - val_mae: 9.1214\n",
            "Epoch 4/20\n",
            "267/267 [==============================] - 2s 7ms/step - loss: 155.4080 - mae: 9.2125 - val_loss: 119.3870 - val_mae: 7.9853\n",
            "Epoch 5/20\n",
            "267/267 [==============================] - 2s 7ms/step - loss: 148.6377 - mae: 9.0390 - val_loss: 105.6691 - val_mae: 7.6591\n",
            "Epoch 6/20\n",
            "267/267 [==============================] - 2s 7ms/step - loss: 136.9229 - mae: 8.6285 - val_loss: 158.1749 - val_mae: 10.0799\n",
            "Epoch 7/20\n",
            "267/267 [==============================] - 2s 7ms/step - loss: 133.7023 - mae: 8.5609 - val_loss: 157.6411 - val_mae: 10.0013\n",
            "Epoch 8/20\n",
            "267/267 [==============================] - 2s 7ms/step - loss: 123.8054 - mae: 8.2250 - val_loss: 100.8089 - val_mae: 7.3074\n",
            "Epoch 9/20\n",
            "267/267 [==============================] - 2s 7ms/step - loss: 119.0865 - mae: 8.0229 - val_loss: 149.8458 - val_mae: 9.4538\n",
            "Epoch 10/20\n",
            "267/267 [==============================] - 2s 7ms/step - loss: 113.3828 - mae: 7.8597 - val_loss: 113.1823 - val_mae: 7.8136\n",
            "Epoch 11/20\n",
            "267/267 [==============================] - 2s 7ms/step - loss: 113.3153 - mae: 7.8810 - val_loss: 99.0722 - val_mae: 7.4780\n",
            "Epoch 12/20\n",
            "267/267 [==============================] - 2s 7ms/step - loss: 108.9376 - mae: 7.6785 - val_loss: 133.0347 - val_mae: 9.0165\n",
            "Epoch 13/20\n",
            "267/267 [==============================] - 2s 7ms/step - loss: 107.7880 - mae: 7.6353 - val_loss: 116.6283 - val_mae: 7.8591\n",
            "Epoch 14/20\n",
            "267/267 [==============================] - 2s 7ms/step - loss: 104.7971 - mae: 7.5191 - val_loss: 173.1084 - val_mae: 10.4699\n",
            "Epoch 15/20\n",
            "267/267 [==============================] - 2s 7ms/step - loss: 99.6373 - mae: 7.3490 - val_loss: 113.1017 - val_mae: 8.1662\n",
            "Epoch 16/20\n",
            "267/267 [==============================] - 2s 7ms/step - loss: 95.8056 - mae: 7.1978 - val_loss: 102.4691 - val_mae: 7.3462\n",
            "Epoch 17/20\n",
            "267/267 [==============================] - 2s 7ms/step - loss: 93.6886 - mae: 7.1505 - val_loss: 150.3524 - val_mae: 8.8325\n",
            "Epoch 18/20\n",
            "267/267 [==============================] - 2s 7ms/step - loss: 90.6555 - mae: 7.0012 - val_loss: 101.5437 - val_mae: 7.4777\n",
            "Epoch 19/20\n",
            "267/267 [==============================] - 2s 7ms/step - loss: 90.1964 - mae: 6.9773 - val_loss: 111.9714 - val_mae: 7.6475\n",
            "Epoch 20/20\n",
            "267/267 [==============================] - 2s 7ms/step - loss: 90.3805 - mae: 7.0066 - val_loss: 121.1358 - val_mae: 7.9467\n"
          ],
          "name": "stdout"
        }
      ]
    },
    {
      "cell_type": "markdown",
      "metadata": {
        "id": "a1J4unfnrO-p"
      },
      "source": [
        "### Evaluation of training history"
      ]
    },
    {
      "cell_type": "code",
      "metadata": {
        "colab": {
          "base_uri": "https://localhost:8080/",
          "height": 542
        },
        "id": "IQhx2ArHrWs6",
        "outputId": "1c33b3d0-969d-456c-be4b-019cc96d36f0"
      },
      "source": [
        "\n",
        "fig = px.line(title='Training History')\n",
        "fig.add_scatter(x=list(range(1,21)), y=history.history['loss'],mode='lines', name='loss')\n",
        "fig.add_scatter(x=list(range(1,21)), y=history.history['val_loss'], mode='lines', name='val_loss' )\n",
        "fig.update_layout(xaxis_title=\"Epochs\",\n",
        "                  yaxis_title=\"Loss\",\n",
        "                  )\n",
        "# fig.add_scatter(history.history, y='val_loss')\n",
        "fig.show()"
      ],
      "execution_count": null,
      "outputs": [
        {
          "output_type": "display_data",
          "data": {
            "text/html": [
              "<html>\n",
              "<head><meta charset=\"utf-8\" /></head>\n",
              "<body>\n",
              "    <div>\n",
              "            <script src=\"https://cdnjs.cloudflare.com/ajax/libs/mathjax/2.7.5/MathJax.js?config=TeX-AMS-MML_SVG\"></script><script type=\"text/javascript\">if (window.MathJax) {MathJax.Hub.Config({SVG: {font: \"STIX-Web\"}});}</script>\n",
              "                <script type=\"text/javascript\">window.PlotlyConfig = {MathJaxConfig: 'local'};</script>\n",
              "        <script src=\"https://cdn.plot.ly/plotly-latest.min.js\"></script>    \n",
              "            <div id=\"8f7fca79-e69a-42e1-95bb-901cb486917c\" class=\"plotly-graph-div\" style=\"height:525px; width:100%;\"></div>\n",
              "            <script type=\"text/javascript\">\n",
              "                \n",
              "                    window.PLOTLYENV=window.PLOTLYENV || {};\n",
              "                    \n",
              "                if (document.getElementById(\"8f7fca79-e69a-42e1-95bb-901cb486917c\")) {\n",
              "                    Plotly.newPlot(\n",
              "                        '8f7fca79-e69a-42e1-95bb-901cb486917c',\n",
              "                        [{\"mode\": \"lines\", \"name\": \"loss\", \"type\": \"scatter\", \"x\": [1, 2, 3, 4, 5, 6, 7, 8, 9, 10, 11, 12, 13, 14, 15, 16, 17, 18, 19, 20], \"y\": [324.9322509765625, 205.00245666503906, 171.10244750976562, 155.40802001953125, 148.6377410888672, 136.9228515625, 133.70230102539062, 123.8054428100586, 119.08648681640625, 113.38278198242188, 113.31529998779297, 108.93756866455078, 107.78799438476562, 104.79712677001953, 99.63733673095703, 95.8056411743164, 93.68860626220703, 90.65547180175781, 90.19635009765625, 90.3804702758789]}, {\"mode\": \"lines\", \"name\": \"val_loss\", \"type\": \"scatter\", \"x\": [1, 2, 3, 4, 5, 6, 7, 8, 9, 10, 11, 12, 13, 14, 15, 16, 17, 18, 19, 20], \"y\": [1141.104248046875, 395.14544677734375, 163.54641723632812, 119.38701629638672, 105.66911315917969, 158.17486572265625, 157.64108276367188, 100.80886840820312, 149.84579467773438, 113.18228912353516, 99.07221984863281, 133.0347137451172, 116.62828063964844, 173.1083984375, 113.10173034667969, 102.46905517578125, 150.3524169921875, 101.5436782836914, 111.9714126586914, 121.13583374023438]}],\n",
              "                        {\"legend\": {\"tracegroupgap\": 0}, \"template\": {\"data\": {\"bar\": [{\"error_x\": {\"color\": \"#2a3f5f\"}, \"error_y\": {\"color\": \"#2a3f5f\"}, \"marker\": {\"line\": {\"color\": \"#E5ECF6\", \"width\": 0.5}}, \"type\": \"bar\"}], \"barpolar\": [{\"marker\": {\"line\": {\"color\": \"#E5ECF6\", \"width\": 0.5}}, \"type\": \"barpolar\"}], \"carpet\": [{\"aaxis\": {\"endlinecolor\": \"#2a3f5f\", \"gridcolor\": \"white\", \"linecolor\": \"white\", \"minorgridcolor\": \"white\", \"startlinecolor\": \"#2a3f5f\"}, \"baxis\": {\"endlinecolor\": \"#2a3f5f\", \"gridcolor\": \"white\", \"linecolor\": \"white\", \"minorgridcolor\": \"white\", \"startlinecolor\": \"#2a3f5f\"}, \"type\": \"carpet\"}], \"choropleth\": [{\"colorbar\": {\"outlinewidth\": 0, \"ticks\": \"\"}, \"type\": \"choropleth\"}], \"contour\": [{\"colorbar\": {\"outlinewidth\": 0, \"ticks\": \"\"}, \"colorscale\": [[0.0, \"#0d0887\"], [0.1111111111111111, \"#46039f\"], [0.2222222222222222, \"#7201a8\"], [0.3333333333333333, \"#9c179e\"], [0.4444444444444444, \"#bd3786\"], [0.5555555555555556, \"#d8576b\"], [0.6666666666666666, \"#ed7953\"], [0.7777777777777778, \"#fb9f3a\"], [0.8888888888888888, \"#fdca26\"], [1.0, \"#f0f921\"]], \"type\": \"contour\"}], \"contourcarpet\": [{\"colorbar\": {\"outlinewidth\": 0, \"ticks\": \"\"}, \"type\": \"contourcarpet\"}], \"heatmap\": [{\"colorbar\": {\"outlinewidth\": 0, \"ticks\": \"\"}, \"colorscale\": [[0.0, \"#0d0887\"], [0.1111111111111111, \"#46039f\"], [0.2222222222222222, \"#7201a8\"], [0.3333333333333333, \"#9c179e\"], [0.4444444444444444, \"#bd3786\"], [0.5555555555555556, \"#d8576b\"], [0.6666666666666666, \"#ed7953\"], [0.7777777777777778, \"#fb9f3a\"], [0.8888888888888888, \"#fdca26\"], [1.0, \"#f0f921\"]], \"type\": \"heatmap\"}], \"heatmapgl\": [{\"colorbar\": {\"outlinewidth\": 0, \"ticks\": \"\"}, \"colorscale\": [[0.0, \"#0d0887\"], [0.1111111111111111, \"#46039f\"], [0.2222222222222222, \"#7201a8\"], [0.3333333333333333, \"#9c179e\"], [0.4444444444444444, \"#bd3786\"], [0.5555555555555556, \"#d8576b\"], [0.6666666666666666, \"#ed7953\"], [0.7777777777777778, \"#fb9f3a\"], [0.8888888888888888, \"#fdca26\"], [1.0, \"#f0f921\"]], \"type\": \"heatmapgl\"}], \"histogram\": [{\"marker\": {\"colorbar\": {\"outlinewidth\": 0, \"ticks\": \"\"}}, \"type\": \"histogram\"}], \"histogram2d\": [{\"colorbar\": {\"outlinewidth\": 0, \"ticks\": \"\"}, \"colorscale\": [[0.0, \"#0d0887\"], [0.1111111111111111, \"#46039f\"], [0.2222222222222222, \"#7201a8\"], [0.3333333333333333, \"#9c179e\"], [0.4444444444444444, \"#bd3786\"], [0.5555555555555556, \"#d8576b\"], [0.6666666666666666, \"#ed7953\"], [0.7777777777777778, \"#fb9f3a\"], [0.8888888888888888, \"#fdca26\"], [1.0, \"#f0f921\"]], \"type\": \"histogram2d\"}], \"histogram2dcontour\": [{\"colorbar\": {\"outlinewidth\": 0, \"ticks\": \"\"}, \"colorscale\": [[0.0, \"#0d0887\"], [0.1111111111111111, \"#46039f\"], [0.2222222222222222, \"#7201a8\"], [0.3333333333333333, \"#9c179e\"], [0.4444444444444444, \"#bd3786\"], [0.5555555555555556, \"#d8576b\"], [0.6666666666666666, \"#ed7953\"], [0.7777777777777778, \"#fb9f3a\"], [0.8888888888888888, \"#fdca26\"], [1.0, \"#f0f921\"]], \"type\": \"histogram2dcontour\"}], \"mesh3d\": [{\"colorbar\": {\"outlinewidth\": 0, \"ticks\": \"\"}, \"type\": \"mesh3d\"}], \"parcoords\": [{\"line\": {\"colorbar\": {\"outlinewidth\": 0, \"ticks\": \"\"}}, \"type\": \"parcoords\"}], \"pie\": [{\"automargin\": true, \"type\": \"pie\"}], \"scatter\": [{\"marker\": {\"colorbar\": {\"outlinewidth\": 0, \"ticks\": \"\"}}, \"type\": \"scatter\"}], \"scatter3d\": [{\"line\": {\"colorbar\": {\"outlinewidth\": 0, \"ticks\": \"\"}}, \"marker\": {\"colorbar\": {\"outlinewidth\": 0, \"ticks\": \"\"}}, \"type\": \"scatter3d\"}], \"scattercarpet\": [{\"marker\": {\"colorbar\": {\"outlinewidth\": 0, \"ticks\": \"\"}}, \"type\": \"scattercarpet\"}], \"scattergeo\": [{\"marker\": {\"colorbar\": {\"outlinewidth\": 0, \"ticks\": \"\"}}, \"type\": \"scattergeo\"}], \"scattergl\": [{\"marker\": {\"colorbar\": {\"outlinewidth\": 0, \"ticks\": \"\"}}, \"type\": \"scattergl\"}], \"scattermapbox\": [{\"marker\": {\"colorbar\": {\"outlinewidth\": 0, \"ticks\": \"\"}}, \"type\": \"scattermapbox\"}], \"scatterpolar\": [{\"marker\": {\"colorbar\": {\"outlinewidth\": 0, \"ticks\": \"\"}}, \"type\": \"scatterpolar\"}], \"scatterpolargl\": [{\"marker\": {\"colorbar\": {\"outlinewidth\": 0, \"ticks\": \"\"}}, \"type\": \"scatterpolargl\"}], \"scatterternary\": [{\"marker\": {\"colorbar\": {\"outlinewidth\": 0, \"ticks\": \"\"}}, \"type\": \"scatterternary\"}], \"surface\": [{\"colorbar\": {\"outlinewidth\": 0, \"ticks\": \"\"}, \"colorscale\": [[0.0, \"#0d0887\"], [0.1111111111111111, \"#46039f\"], [0.2222222222222222, \"#7201a8\"], [0.3333333333333333, \"#9c179e\"], [0.4444444444444444, \"#bd3786\"], [0.5555555555555556, \"#d8576b\"], [0.6666666666666666, \"#ed7953\"], [0.7777777777777778, \"#fb9f3a\"], [0.8888888888888888, \"#fdca26\"], [1.0, \"#f0f921\"]], \"type\": \"surface\"}], \"table\": [{\"cells\": {\"fill\": {\"color\": \"#EBF0F8\"}, \"line\": {\"color\": \"white\"}}, \"header\": {\"fill\": {\"color\": \"#C8D4E3\"}, \"line\": {\"color\": \"white\"}}, \"type\": \"table\"}]}, \"layout\": {\"annotationdefaults\": {\"arrowcolor\": \"#2a3f5f\", \"arrowhead\": 0, \"arrowwidth\": 1}, \"coloraxis\": {\"colorbar\": {\"outlinewidth\": 0, \"ticks\": \"\"}}, \"colorscale\": {\"diverging\": [[0, \"#8e0152\"], [0.1, \"#c51b7d\"], [0.2, \"#de77ae\"], [0.3, \"#f1b6da\"], [0.4, \"#fde0ef\"], [0.5, \"#f7f7f7\"], [0.6, \"#e6f5d0\"], [0.7, \"#b8e186\"], [0.8, \"#7fbc41\"], [0.9, \"#4d9221\"], [1, \"#276419\"]], \"sequential\": [[0.0, \"#0d0887\"], [0.1111111111111111, \"#46039f\"], [0.2222222222222222, \"#7201a8\"], [0.3333333333333333, \"#9c179e\"], [0.4444444444444444, \"#bd3786\"], [0.5555555555555556, \"#d8576b\"], [0.6666666666666666, \"#ed7953\"], [0.7777777777777778, \"#fb9f3a\"], [0.8888888888888888, \"#fdca26\"], [1.0, \"#f0f921\"]], \"sequentialminus\": [[0.0, \"#0d0887\"], [0.1111111111111111, \"#46039f\"], [0.2222222222222222, \"#7201a8\"], [0.3333333333333333, \"#9c179e\"], [0.4444444444444444, \"#bd3786\"], [0.5555555555555556, \"#d8576b\"], [0.6666666666666666, \"#ed7953\"], [0.7777777777777778, \"#fb9f3a\"], [0.8888888888888888, \"#fdca26\"], [1.0, \"#f0f921\"]]}, \"colorway\": [\"#636efa\", \"#EF553B\", \"#00cc96\", \"#ab63fa\", \"#FFA15A\", \"#19d3f3\", \"#FF6692\", \"#B6E880\", \"#FF97FF\", \"#FECB52\"], \"font\": {\"color\": \"#2a3f5f\"}, \"geo\": {\"bgcolor\": \"white\", \"lakecolor\": \"white\", \"landcolor\": \"#E5ECF6\", \"showlakes\": true, \"showland\": true, \"subunitcolor\": \"white\"}, \"hoverlabel\": {\"align\": \"left\"}, \"hovermode\": \"closest\", \"mapbox\": {\"style\": \"light\"}, \"paper_bgcolor\": \"white\", \"plot_bgcolor\": \"#E5ECF6\", \"polar\": {\"angularaxis\": {\"gridcolor\": \"white\", \"linecolor\": \"white\", \"ticks\": \"\"}, \"bgcolor\": \"#E5ECF6\", \"radialaxis\": {\"gridcolor\": \"white\", \"linecolor\": \"white\", \"ticks\": \"\"}}, \"scene\": {\"xaxis\": {\"backgroundcolor\": \"#E5ECF6\", \"gridcolor\": \"white\", \"gridwidth\": 2, \"linecolor\": \"white\", \"showbackground\": true, \"ticks\": \"\", \"zerolinecolor\": \"white\"}, \"yaxis\": {\"backgroundcolor\": \"#E5ECF6\", \"gridcolor\": \"white\", \"gridwidth\": 2, \"linecolor\": \"white\", \"showbackground\": true, \"ticks\": \"\", \"zerolinecolor\": \"white\"}, \"zaxis\": {\"backgroundcolor\": \"#E5ECF6\", \"gridcolor\": \"white\", \"gridwidth\": 2, \"linecolor\": \"white\", \"showbackground\": true, \"ticks\": \"\", \"zerolinecolor\": \"white\"}}, \"shapedefaults\": {\"line\": {\"color\": \"#2a3f5f\"}}, \"ternary\": {\"aaxis\": {\"gridcolor\": \"white\", \"linecolor\": \"white\", \"ticks\": \"\"}, \"baxis\": {\"gridcolor\": \"white\", \"linecolor\": \"white\", \"ticks\": \"\"}, \"bgcolor\": \"#E5ECF6\", \"caxis\": {\"gridcolor\": \"white\", \"linecolor\": \"white\", \"ticks\": \"\"}}, \"title\": {\"x\": 0.05}, \"xaxis\": {\"automargin\": true, \"gridcolor\": \"white\", \"linecolor\": \"white\", \"ticks\": \"\", \"title\": {\"standoff\": 15}, \"zerolinecolor\": \"white\", \"zerolinewidth\": 2}, \"yaxis\": {\"automargin\": true, \"gridcolor\": \"white\", \"linecolor\": \"white\", \"ticks\": \"\", \"title\": {\"standoff\": 15}, \"zerolinecolor\": \"white\", \"zerolinewidth\": 2}}}, \"title\": {\"text\": \"Training History\"}, \"xaxis\": {\"anchor\": \"y\", \"domain\": [0.0, 1.0], \"title\": {\"text\": \"Epochs\"}}, \"yaxis\": {\"anchor\": \"x\", \"domain\": [0.0, 1.0], \"title\": {\"text\": \"Loss\"}}},\n",
              "                        {\"responsive\": true}\n",
              "                    ).then(function(){\n",
              "                            \n",
              "var gd = document.getElementById('8f7fca79-e69a-42e1-95bb-901cb486917c');\n",
              "var x = new MutationObserver(function (mutations, observer) {{\n",
              "        var display = window.getComputedStyle(gd).display;\n",
              "        if (!display || display === 'none') {{\n",
              "            console.log([gd, 'removed!']);\n",
              "            Plotly.purge(gd);\n",
              "            observer.disconnect();\n",
              "        }}\n",
              "}});\n",
              "\n",
              "// Listen for the removal of the full notebook cells\n",
              "var notebookContainer = gd.closest('#notebook-container');\n",
              "if (notebookContainer) {{\n",
              "    x.observe(notebookContainer, {childList: true});\n",
              "}}\n",
              "\n",
              "// Listen for the clearing of the current output cell\n",
              "var outputEl = gd.closest('.output');\n",
              "if (outputEl) {{\n",
              "    x.observe(outputEl, {childList: true});\n",
              "}}\n",
              "\n",
              "                        })\n",
              "                };\n",
              "                \n",
              "            </script>\n",
              "        </div>\n",
              "</body>\n",
              "</html>"
            ]
          },
          "metadata": {
            "tags": []
          }
        }
      ]
    },
    {
      "cell_type": "markdown",
      "metadata": {
        "id": "3AV2bcHy9jBw"
      },
      "source": [
        "### MSE and MAE without callback"
      ]
    },
    {
      "cell_type": "code",
      "metadata": {
        "colab": {
          "base_uri": "https://localhost:8080/"
        },
        "id": "5VBaykR99iih",
        "outputId": "a6057669-8ab2-45e3-e8fe-df64da60c462"
      },
      "source": [
        "mse, mae = model.evaluate(X_test,y_test,verbose=0)\n",
        "print('Test Mean squared error: {}'.format(mse))\n",
        "print('Test Mean absolute error: {}'.format(mae))"
      ],
      "execution_count": null,
      "outputs": [
        {
          "output_type": "stream",
          "text": [
            "Test Mean squared error: 111.28680419921875\n",
            "Test Mean absolute error: 7.596689701080322\n"
          ],
          "name": "stdout"
        }
      ]
    },
    {
      "cell_type": "markdown",
      "metadata": {
        "id": "f599pvEa84RL"
      },
      "source": [
        "### Callback for this model"
      ]
    },
    {
      "cell_type": "code",
      "metadata": {
        "id": "2P2_K6Qz87M3"
      },
      "source": [
        "## Stop training when validation loss reach 96\n",
        "class myCallback(tf.keras.callbacks.Callback):\n",
        "    def on_epoch_end(self, epoch, logs={}):\n",
        "        if(logs.get('val_loss')<100):\n",
        "            print(\"\\nReached 96 val_loss so cancelling training!\")\n",
        "            self.model.stop_training = True\n",
        "        \n",
        "callback = myCallback()"
      ],
      "execution_count": null,
      "outputs": []
    },
    {
      "cell_type": "markdown",
      "metadata": {
        "id": "fpSS6oXO9Eof"
      },
      "source": [
        "### Training with call back"
      ]
    },
    {
      "cell_type": "code",
      "metadata": {
        "colab": {
          "base_uri": "https://localhost:8080/"
        },
        "id": "4hsy-ySD9Dh0",
        "outputId": "dce158b2-4d4b-4ad2-bb9b-d3ac08551c4f"
      },
      "source": [
        "model = tf.keras.Sequential(name=\"ReviveNet\")\n",
        "model.add(tf.keras.Input(shape=(48,48,1)))\n",
        "model.add(L.Conv2D(32, 3, activation='relu'))\n",
        "model.add(L.BatchNormalization())\n",
        "model.add(L.MaxPool2D(pool_size=(2,2))),\n",
        "model.add(L.Conv2D(64, 3, activation='relu'))\n",
        "model.add(L.MaxPool2D(pool_size=(2,2)))\n",
        "model.add(L.Conv2D(128, 3, activation='relu'))\n",
        "model.add(L.MaxPool2D(pool_size=(2,2)))\n",
        "model.add(L.Flatten())\n",
        "model.add(L.Dense(64, activation='relu'))\n",
        "model.add(L.Dropout(0.5))\n",
        "model.add(L.Dense(1, activation='relu'))\n",
        "\n",
        "# sgd_optim = tf.keras.optimizers.SGD(momentum=0.9)\n",
        "\n",
        "model.compile(optimizer='adam',\n",
        "              loss='mean_squared_error',\n",
        "              metrics=['mae'])\n",
        "\n",
        "history = model.fit(\n",
        "    X_train, y_train, epochs=20, validation_split=0.1, batch_size=64, callbacks=[callback]\n",
        ")"
      ],
      "execution_count": null,
      "outputs": [
        {
          "output_type": "stream",
          "text": [
            "Epoch 1/20\n",
            "267/267 [==============================] - 2s 7ms/step - loss: 360.6130 - mae: 14.4765 - val_loss: 1241.3132 - val_mae: 29.5232\n",
            "Epoch 2/20\n",
            "267/267 [==============================] - 2s 7ms/step - loss: 231.6031 - mae: 11.5513 - val_loss: 343.5871 - val_mae: 13.7625\n",
            "Epoch 3/20\n",
            "267/267 [==============================] - 2s 7ms/step - loss: 197.3925 - mae: 10.4977 - val_loss: 146.7578 - val_mae: 9.5389\n",
            "Epoch 4/20\n",
            "267/267 [==============================] - 2s 7ms/step - loss: 176.3733 - mae: 9.8388 - val_loss: 113.9350 - val_mae: 8.0631\n",
            "Epoch 5/20\n",
            "267/267 [==============================] - 2s 6ms/step - loss: 166.1112 - mae: 9.5060 - val_loss: 209.5546 - val_mae: 10.4842\n",
            "Epoch 6/20\n",
            "267/267 [==============================] - 2s 7ms/step - loss: 153.9618 - mae: 9.1861 - val_loss: 157.0912 - val_mae: 9.0705\n",
            "Epoch 7/20\n",
            "267/267 [==============================] - 2s 7ms/step - loss: 151.3595 - mae: 9.0586 - val_loss: 131.1588 - val_mae: 8.8443\n",
            "Epoch 8/20\n",
            "267/267 [==============================] - 2s 6ms/step - loss: 140.5183 - mae: 8.7384 - val_loss: 103.3937 - val_mae: 7.6250\n",
            "Epoch 9/20\n",
            "267/267 [==============================] - 2s 7ms/step - loss: 138.6797 - mae: 8.6323 - val_loss: 100.2410 - val_mae: 7.4209\n",
            "Epoch 10/20\n",
            "267/267 [==============================] - 2s 7ms/step - loss: 131.2796 - mae: 8.3742 - val_loss: 126.9297 - val_mae: 8.7570\n",
            "Epoch 11/20\n",
            "267/267 [==============================] - 2s 7ms/step - loss: 129.9915 - mae: 8.3835 - val_loss: 119.4794 - val_mae: 7.8584\n",
            "Epoch 12/20\n",
            "259/267 [============================>.] - ETA: 0s - loss: 125.3067 - mae: 8.1859\n",
            "Reached 96 val_loss so cancelling training!\n",
            "267/267 [==============================] - 2s 7ms/step - loss: 125.5616 - mae: 8.1960 - val_loss: 98.8739 - val_mae: 7.3900\n"
          ],
          "name": "stdout"
        }
      ]
    },
    {
      "cell_type": "markdown",
      "metadata": {
        "id": "kikY0eA49mUs"
      },
      "source": [
        "### MSE and MAE with callback"
      ]
    },
    {
      "cell_type": "code",
      "metadata": {
        "colab": {
          "base_uri": "https://localhost:8080/"
        },
        "id": "F_mNhb-k9oiU",
        "outputId": "298f4502-dfea-40b7-c056-3b41d63daf16"
      },
      "source": [
        "mse, mae = model.evaluate(X_test,y_test,verbose=0)\n",
        "print('Test Mean squared error: {}'.format(mse))\n",
        "print('Test Mean absolute error: {}'.format(mae))"
      ],
      "execution_count": null,
      "outputs": [
        {
          "output_type": "stream",
          "text": [
            "Test Mean squared error: 95.84571075439453\n",
            "Test Mean absolute error: 7.352696418762207\n"
          ],
          "name": "stdout"
        }
      ]
    },
    {
      "cell_type": "markdown",
      "metadata": {
        "id": "HsM_QGhyonTm"
      },
      "source": [
        "## Gender Prediction"
      ]
    },
    {
      "cell_type": "markdown",
      "metadata": {
        "id": "fZKzGV46ovRU"
      },
      "source": [
        "### Gender distribution plot"
      ]
    },
    {
      "cell_type": "code",
      "metadata": {
        "colab": {
          "base_uri": "https://localhost:8080/",
          "height": 542
        },
        "id": "15ijjY_6l77_",
        "outputId": "ab18a54c-8339-4550-c34b-f5db8387abb1"
      },
      "source": [
        "gender_dist = data['gender'].value_counts().rename(index={0:'Male',1:'Female'})\n",
        "distribution_plot(x=gender_dist.index, y=gender_dist.values, name='Gender Distribution')"
      ],
      "execution_count": null,
      "outputs": [
        {
          "output_type": "display_data",
          "data": {
            "text/html": [
              "<html>\n",
              "<head><meta charset=\"utf-8\" /></head>\n",
              "<body>\n",
              "    <div>\n",
              "            <script src=\"https://cdnjs.cloudflare.com/ajax/libs/mathjax/2.7.5/MathJax.js?config=TeX-AMS-MML_SVG\"></script><script type=\"text/javascript\">if (window.MathJax) {MathJax.Hub.Config({SVG: {font: \"STIX-Web\"}});}</script>\n",
              "                <script type=\"text/javascript\">window.PlotlyConfig = {MathJaxConfig: 'local'};</script>\n",
              "        <script src=\"https://cdn.plot.ly/plotly-latest.min.js\"></script>    \n",
              "            <div id=\"d63a5899-f76c-451d-b86c-7c1c0ff3d938\" class=\"plotly-graph-div\" style=\"height:525px; width:100%;\"></div>\n",
              "            <script type=\"text/javascript\">\n",
              "                \n",
              "                    window.PLOTLYENV=window.PLOTLYENV || {};\n",
              "                    \n",
              "                if (document.getElementById(\"d63a5899-f76c-451d-b86c-7c1c0ff3d938\")) {\n",
              "                    Plotly.newPlot(\n",
              "                        'd63a5899-f76c-451d-b86c-7c1c0ff3d938',\n",
              "                        [{\"type\": \"bar\", \"x\": [\"Male\", \"Female\"], \"y\": [12391, 11314]}],\n",
              "                        {\"template\": {\"data\": {\"bar\": [{\"error_x\": {\"color\": \"#2a3f5f\"}, \"error_y\": {\"color\": \"#2a3f5f\"}, \"marker\": {\"line\": {\"color\": \"#E5ECF6\", \"width\": 0.5}}, \"type\": \"bar\"}], \"barpolar\": [{\"marker\": {\"line\": {\"color\": \"#E5ECF6\", \"width\": 0.5}}, \"type\": \"barpolar\"}], \"carpet\": [{\"aaxis\": {\"endlinecolor\": \"#2a3f5f\", \"gridcolor\": \"white\", \"linecolor\": \"white\", \"minorgridcolor\": \"white\", \"startlinecolor\": \"#2a3f5f\"}, \"baxis\": {\"endlinecolor\": \"#2a3f5f\", \"gridcolor\": \"white\", \"linecolor\": \"white\", \"minorgridcolor\": \"white\", \"startlinecolor\": \"#2a3f5f\"}, \"type\": \"carpet\"}], \"choropleth\": [{\"colorbar\": {\"outlinewidth\": 0, \"ticks\": \"\"}, \"type\": \"choropleth\"}], \"contour\": [{\"colorbar\": {\"outlinewidth\": 0, \"ticks\": \"\"}, \"colorscale\": [[0.0, \"#0d0887\"], [0.1111111111111111, \"#46039f\"], [0.2222222222222222, \"#7201a8\"], [0.3333333333333333, \"#9c179e\"], [0.4444444444444444, \"#bd3786\"], [0.5555555555555556, \"#d8576b\"], [0.6666666666666666, \"#ed7953\"], [0.7777777777777778, \"#fb9f3a\"], [0.8888888888888888, \"#fdca26\"], [1.0, \"#f0f921\"]], \"type\": \"contour\"}], \"contourcarpet\": [{\"colorbar\": {\"outlinewidth\": 0, \"ticks\": \"\"}, \"type\": \"contourcarpet\"}], \"heatmap\": [{\"colorbar\": {\"outlinewidth\": 0, \"ticks\": \"\"}, \"colorscale\": [[0.0, \"#0d0887\"], [0.1111111111111111, \"#46039f\"], [0.2222222222222222, \"#7201a8\"], [0.3333333333333333, \"#9c179e\"], [0.4444444444444444, \"#bd3786\"], [0.5555555555555556, \"#d8576b\"], [0.6666666666666666, \"#ed7953\"], [0.7777777777777778, \"#fb9f3a\"], [0.8888888888888888, \"#fdca26\"], [1.0, \"#f0f921\"]], \"type\": \"heatmap\"}], \"heatmapgl\": [{\"colorbar\": {\"outlinewidth\": 0, \"ticks\": \"\"}, \"colorscale\": [[0.0, \"#0d0887\"], [0.1111111111111111, \"#46039f\"], [0.2222222222222222, \"#7201a8\"], [0.3333333333333333, \"#9c179e\"], [0.4444444444444444, \"#bd3786\"], [0.5555555555555556, \"#d8576b\"], [0.6666666666666666, \"#ed7953\"], [0.7777777777777778, \"#fb9f3a\"], [0.8888888888888888, \"#fdca26\"], [1.0, \"#f0f921\"]], \"type\": \"heatmapgl\"}], \"histogram\": [{\"marker\": {\"colorbar\": {\"outlinewidth\": 0, \"ticks\": \"\"}}, \"type\": \"histogram\"}], \"histogram2d\": [{\"colorbar\": {\"outlinewidth\": 0, \"ticks\": \"\"}, \"colorscale\": [[0.0, \"#0d0887\"], [0.1111111111111111, \"#46039f\"], [0.2222222222222222, \"#7201a8\"], [0.3333333333333333, \"#9c179e\"], [0.4444444444444444, \"#bd3786\"], [0.5555555555555556, \"#d8576b\"], [0.6666666666666666, \"#ed7953\"], [0.7777777777777778, \"#fb9f3a\"], [0.8888888888888888, \"#fdca26\"], [1.0, \"#f0f921\"]], \"type\": \"histogram2d\"}], \"histogram2dcontour\": [{\"colorbar\": {\"outlinewidth\": 0, \"ticks\": \"\"}, \"colorscale\": [[0.0, \"#0d0887\"], [0.1111111111111111, \"#46039f\"], [0.2222222222222222, \"#7201a8\"], [0.3333333333333333, \"#9c179e\"], [0.4444444444444444, \"#bd3786\"], [0.5555555555555556, \"#d8576b\"], [0.6666666666666666, \"#ed7953\"], [0.7777777777777778, \"#fb9f3a\"], [0.8888888888888888, \"#fdca26\"], [1.0, \"#f0f921\"]], \"type\": \"histogram2dcontour\"}], \"mesh3d\": [{\"colorbar\": {\"outlinewidth\": 0, \"ticks\": \"\"}, \"type\": \"mesh3d\"}], \"parcoords\": [{\"line\": {\"colorbar\": {\"outlinewidth\": 0, \"ticks\": \"\"}}, \"type\": \"parcoords\"}], \"pie\": [{\"automargin\": true, \"type\": \"pie\"}], \"scatter\": [{\"marker\": {\"colorbar\": {\"outlinewidth\": 0, \"ticks\": \"\"}}, \"type\": \"scatter\"}], \"scatter3d\": [{\"line\": {\"colorbar\": {\"outlinewidth\": 0, \"ticks\": \"\"}}, \"marker\": {\"colorbar\": {\"outlinewidth\": 0, \"ticks\": \"\"}}, \"type\": \"scatter3d\"}], \"scattercarpet\": [{\"marker\": {\"colorbar\": {\"outlinewidth\": 0, \"ticks\": \"\"}}, \"type\": \"scattercarpet\"}], \"scattergeo\": [{\"marker\": {\"colorbar\": {\"outlinewidth\": 0, \"ticks\": \"\"}}, \"type\": \"scattergeo\"}], \"scattergl\": [{\"marker\": {\"colorbar\": {\"outlinewidth\": 0, \"ticks\": \"\"}}, \"type\": \"scattergl\"}], \"scattermapbox\": [{\"marker\": {\"colorbar\": {\"outlinewidth\": 0, \"ticks\": \"\"}}, \"type\": \"scattermapbox\"}], \"scatterpolar\": [{\"marker\": {\"colorbar\": {\"outlinewidth\": 0, \"ticks\": \"\"}}, \"type\": \"scatterpolar\"}], \"scatterpolargl\": [{\"marker\": {\"colorbar\": {\"outlinewidth\": 0, \"ticks\": \"\"}}, \"type\": \"scatterpolargl\"}], \"scatterternary\": [{\"marker\": {\"colorbar\": {\"outlinewidth\": 0, \"ticks\": \"\"}}, \"type\": \"scatterternary\"}], \"surface\": [{\"colorbar\": {\"outlinewidth\": 0, \"ticks\": \"\"}, \"colorscale\": [[0.0, \"#0d0887\"], [0.1111111111111111, \"#46039f\"], [0.2222222222222222, \"#7201a8\"], [0.3333333333333333, \"#9c179e\"], [0.4444444444444444, \"#bd3786\"], [0.5555555555555556, \"#d8576b\"], [0.6666666666666666, \"#ed7953\"], [0.7777777777777778, \"#fb9f3a\"], [0.8888888888888888, \"#fdca26\"], [1.0, \"#f0f921\"]], \"type\": \"surface\"}], \"table\": [{\"cells\": {\"fill\": {\"color\": \"#EBF0F8\"}, \"line\": {\"color\": \"white\"}}, \"header\": {\"fill\": {\"color\": \"#C8D4E3\"}, \"line\": {\"color\": \"white\"}}, \"type\": \"table\"}]}, \"layout\": {\"annotationdefaults\": {\"arrowcolor\": \"#2a3f5f\", \"arrowhead\": 0, \"arrowwidth\": 1}, \"coloraxis\": {\"colorbar\": {\"outlinewidth\": 0, \"ticks\": \"\"}}, \"colorscale\": {\"diverging\": [[0, \"#8e0152\"], [0.1, \"#c51b7d\"], [0.2, \"#de77ae\"], [0.3, \"#f1b6da\"], [0.4, \"#fde0ef\"], [0.5, \"#f7f7f7\"], [0.6, \"#e6f5d0\"], [0.7, \"#b8e186\"], [0.8, \"#7fbc41\"], [0.9, \"#4d9221\"], [1, \"#276419\"]], \"sequential\": [[0.0, \"#0d0887\"], [0.1111111111111111, \"#46039f\"], [0.2222222222222222, \"#7201a8\"], [0.3333333333333333, \"#9c179e\"], [0.4444444444444444, \"#bd3786\"], [0.5555555555555556, \"#d8576b\"], [0.6666666666666666, \"#ed7953\"], [0.7777777777777778, \"#fb9f3a\"], [0.8888888888888888, \"#fdca26\"], [1.0, \"#f0f921\"]], \"sequentialminus\": [[0.0, \"#0d0887\"], [0.1111111111111111, \"#46039f\"], [0.2222222222222222, \"#7201a8\"], [0.3333333333333333, \"#9c179e\"], [0.4444444444444444, \"#bd3786\"], [0.5555555555555556, \"#d8576b\"], [0.6666666666666666, \"#ed7953\"], [0.7777777777777778, \"#fb9f3a\"], [0.8888888888888888, \"#fdca26\"], [1.0, \"#f0f921\"]]}, \"colorway\": [\"#636efa\", \"#EF553B\", \"#00cc96\", \"#ab63fa\", \"#FFA15A\", \"#19d3f3\", \"#FF6692\", \"#B6E880\", \"#FF97FF\", \"#FECB52\"], \"font\": {\"color\": \"#2a3f5f\"}, \"geo\": {\"bgcolor\": \"white\", \"lakecolor\": \"white\", \"landcolor\": \"#E5ECF6\", \"showlakes\": true, \"showland\": true, \"subunitcolor\": \"white\"}, \"hoverlabel\": {\"align\": \"left\"}, \"hovermode\": \"closest\", \"mapbox\": {\"style\": \"light\"}, \"paper_bgcolor\": \"white\", \"plot_bgcolor\": \"#E5ECF6\", \"polar\": {\"angularaxis\": {\"gridcolor\": \"white\", \"linecolor\": \"white\", \"ticks\": \"\"}, \"bgcolor\": \"#E5ECF6\", \"radialaxis\": {\"gridcolor\": \"white\", \"linecolor\": \"white\", \"ticks\": \"\"}}, \"scene\": {\"xaxis\": {\"backgroundcolor\": \"#E5ECF6\", \"gridcolor\": \"white\", \"gridwidth\": 2, \"linecolor\": \"white\", \"showbackground\": true, \"ticks\": \"\", \"zerolinecolor\": \"white\"}, \"yaxis\": {\"backgroundcolor\": \"#E5ECF6\", \"gridcolor\": \"white\", \"gridwidth\": 2, \"linecolor\": \"white\", \"showbackground\": true, \"ticks\": \"\", \"zerolinecolor\": \"white\"}, \"zaxis\": {\"backgroundcolor\": \"#E5ECF6\", \"gridcolor\": \"white\", \"gridwidth\": 2, \"linecolor\": \"white\", \"showbackground\": true, \"ticks\": \"\", \"zerolinecolor\": \"white\"}}, \"shapedefaults\": {\"line\": {\"color\": \"#2a3f5f\"}}, \"ternary\": {\"aaxis\": {\"gridcolor\": \"white\", \"linecolor\": \"white\", \"ticks\": \"\"}, \"baxis\": {\"gridcolor\": \"white\", \"linecolor\": \"white\", \"ticks\": \"\"}, \"bgcolor\": \"#E5ECF6\", \"caxis\": {\"gridcolor\": \"white\", \"linecolor\": \"white\", \"ticks\": \"\"}}, \"title\": {\"x\": 0.05}, \"xaxis\": {\"automargin\": true, \"gridcolor\": \"white\", \"linecolor\": \"white\", \"ticks\": \"\", \"title\": {\"standoff\": 15}, \"zerolinecolor\": \"white\", \"zerolinewidth\": 2}, \"yaxis\": {\"automargin\": true, \"gridcolor\": \"white\", \"linecolor\": \"white\", \"ticks\": \"\", \"title\": {\"standoff\": 15}, \"zerolinecolor\": \"white\", \"zerolinewidth\": 2}}}, \"title\": {\"text\": \"Gender Distribution\"}},\n",
              "                        {\"responsive\": true}\n",
              "                    ).then(function(){\n",
              "                            \n",
              "var gd = document.getElementById('d63a5899-f76c-451d-b86c-7c1c0ff3d938');\n",
              "var x = new MutationObserver(function (mutations, observer) {{\n",
              "        var display = window.getComputedStyle(gd).display;\n",
              "        if (!display || display === 'none') {{\n",
              "            console.log([gd, 'removed!']);\n",
              "            Plotly.purge(gd);\n",
              "            observer.disconnect();\n",
              "        }}\n",
              "}});\n",
              "\n",
              "// Listen for the removal of the full notebook cells\n",
              "var notebookContainer = gd.closest('#notebook-container');\n",
              "if (notebookContainer) {{\n",
              "    x.observe(notebookContainer, {childList: true});\n",
              "}}\n",
              "\n",
              "// Listen for the clearing of the current output cell\n",
              "var outputEl = gd.closest('.output');\n",
              "if (outputEl) {{\n",
              "    x.observe(outputEl, {childList: true});\n",
              "}}\n",
              "\n",
              "                        })\n",
              "                };\n",
              "                \n",
              "            </script>\n",
              "        </div>\n",
              "</body>\n",
              "</html>"
            ]
          },
          "metadata": {
            "tags": []
          }
        }
      ]
    },
    {
      "cell_type": "markdown",
      "metadata": {
        "id": "Xl_hwZKSpsY3"
      },
      "source": [
        "### Train test split and other preprocessing"
      ]
    },
    {
      "cell_type": "code",
      "metadata": {
        "id": "_M3d6EhOpN4_"
      },
      "source": [
        "y = data['gender']\n",
        "\n",
        "X_train, X_test, y_train, y_test = train_test_split(\n",
        "    X, y, test_size=0.2, random_state=37\n",
        ")"
      ],
      "execution_count": null,
      "outputs": []
    },
    {
      "cell_type": "markdown",
      "metadata": {
        "id": "dFtzdjNuqyAB"
      },
      "source": [
        "### Compiling the model"
      ]
    },
    {
      "cell_type": "code",
      "metadata": {
        "id": "ixz7yNrLqzjR"
      },
      "source": [
        "model = tf.keras.Sequential(name=\"SapiensNet\")\n",
        "model.add(tf.keras.Input(shape=(48,48,1)))\n",
        "model.add(L.Conv2D(32, 3, activation='relu'))\n",
        "model.add(L.BatchNormalization())\n",
        "model.add(L.MaxPool2D(pool_size=(2,2))),\n",
        "model.add(L.Conv2D(64, 3, activation='relu'))\n",
        "model.add(L.MaxPool2D(pool_size=(2,2)))\n",
        "model.add(L.Flatten())\n",
        "model.add(L.Dense(64, activation='relu'))\n",
        "model.add(L.Dropout(0.5))\n",
        "model.add(L.Dense(1, activation='sigmoid'))\n",
        "\n",
        "sgd = tf.keras.optimizers.SGD(momentum=0.9)\n",
        "model.compile(optimizer='sgd',\n",
        "              loss=tf.keras.losses.BinaryCrossentropy(),\n",
        "              metrics=['accuracy'])"
      ],
      "execution_count": null,
      "outputs": []
    },
    {
      "cell_type": "markdown",
      "metadata": {
        "id": "bHz1uAHA2yXl"
      },
      "source": [
        "### Summary of the model"
      ]
    },
    {
      "cell_type": "code",
      "metadata": {
        "colab": {
          "base_uri": "https://localhost:8080/"
        },
        "id": "OiJIsssk20dU",
        "outputId": "d1c3f521-3248-4fca-fe0a-e0b58552b1fb"
      },
      "source": [
        "print(model.summary())"
      ],
      "execution_count": null,
      "outputs": [
        {
          "output_type": "stream",
          "text": [
            "Model: \"SapiensNet\"\n",
            "_________________________________________________________________\n",
            "Layer (type)                 Output Shape              Param #   \n",
            "=================================================================\n",
            "conv2d_11 (Conv2D)           (None, 46, 46, 32)        320       \n",
            "_________________________________________________________________\n",
            "batch_normalization_4 (Batch (None, 46, 46, 32)        128       \n",
            "_________________________________________________________________\n",
            "max_pooling2d_11 (MaxPooling (None, 23, 23, 32)        0         \n",
            "_________________________________________________________________\n",
            "conv2d_12 (Conv2D)           (None, 21, 21, 64)        18496     \n",
            "_________________________________________________________________\n",
            "max_pooling2d_12 (MaxPooling (None, 10, 10, 64)        0         \n",
            "_________________________________________________________________\n",
            "flatten_4 (Flatten)          (None, 6400)              0         \n",
            "_________________________________________________________________\n",
            "dense_8 (Dense)              (None, 64)                409664    \n",
            "_________________________________________________________________\n",
            "dropout_4 (Dropout)          (None, 64)                0         \n",
            "_________________________________________________________________\n",
            "dense_9 (Dense)              (None, 1)                 65        \n",
            "=================================================================\n",
            "Total params: 428,673\n",
            "Trainable params: 428,609\n",
            "Non-trainable params: 64\n",
            "_________________________________________________________________\n",
            "None\n"
          ],
          "name": "stdout"
        }
      ]
    },
    {
      "cell_type": "markdown",
      "metadata": {
        "id": "YhCagYxHrMIg"
      },
      "source": [
        "### Training the model"
      ]
    },
    {
      "cell_type": "code",
      "metadata": {
        "colab": {
          "base_uri": "https://localhost:8080/"
        },
        "id": "mhlwMVOhrNa2",
        "outputId": "4e2501c4-c867-4cb8-d866-2dc292dbe05b"
      },
      "source": [
        "history = model.fit(\n",
        "    X_train, y_train, epochs=40, validation_split=0.1, batch_size=64,\n",
        ")"
      ],
      "execution_count": null,
      "outputs": [
        {
          "output_type": "stream",
          "text": [
            "Epoch 1/40\n",
            "267/267 [==============================] - 2s 7ms/step - loss: 0.5353 - accuracy: 0.7268 - val_loss: 0.5894 - val_accuracy: 0.8060\n",
            "Epoch 2/40\n",
            "267/267 [==============================] - 2s 6ms/step - loss: 0.4029 - accuracy: 0.8163 - val_loss: 0.3975 - val_accuracy: 0.8334\n",
            "Epoch 3/40\n",
            "267/267 [==============================] - 2s 6ms/step - loss: 0.3581 - accuracy: 0.8423 - val_loss: 0.3407 - val_accuracy: 0.8492\n",
            "Epoch 4/40\n",
            "267/267 [==============================] - 2s 6ms/step - loss: 0.3333 - accuracy: 0.8513 - val_loss: 0.3236 - val_accuracy: 0.8614\n",
            "Epoch 5/40\n",
            "267/267 [==============================] - 2s 6ms/step - loss: 0.3170 - accuracy: 0.8581 - val_loss: 0.3264 - val_accuracy: 0.8603\n",
            "Epoch 6/40\n",
            "267/267 [==============================] - 2s 6ms/step - loss: 0.3057 - accuracy: 0.8678 - val_loss: 0.3398 - val_accuracy: 0.8487\n",
            "Epoch 7/40\n",
            "267/267 [==============================] - 2s 6ms/step - loss: 0.2957 - accuracy: 0.8713 - val_loss: 0.3059 - val_accuracy: 0.8687\n",
            "Epoch 8/40\n",
            "267/267 [==============================] - 2s 6ms/step - loss: 0.2854 - accuracy: 0.8760 - val_loss: 0.3059 - val_accuracy: 0.8735\n",
            "Epoch 9/40\n",
            "267/267 [==============================] - 2s 6ms/step - loss: 0.2790 - accuracy: 0.8787 - val_loss: 0.2895 - val_accuracy: 0.8761\n",
            "Epoch 10/40\n",
            "267/267 [==============================] - 2s 6ms/step - loss: 0.2695 - accuracy: 0.8841 - val_loss: 0.2792 - val_accuracy: 0.8745\n",
            "Epoch 11/40\n",
            "267/267 [==============================] - 2s 6ms/step - loss: 0.2639 - accuracy: 0.8870 - val_loss: 0.2829 - val_accuracy: 0.8814\n",
            "Epoch 12/40\n",
            "267/267 [==============================] - 2s 6ms/step - loss: 0.2547 - accuracy: 0.8916 - val_loss: 0.2795 - val_accuracy: 0.8793\n",
            "Epoch 13/40\n",
            "267/267 [==============================] - 2s 6ms/step - loss: 0.2492 - accuracy: 0.8954 - val_loss: 0.2843 - val_accuracy: 0.8730\n",
            "Epoch 14/40\n",
            "267/267 [==============================] - 2s 6ms/step - loss: 0.2437 - accuracy: 0.8954 - val_loss: 0.2690 - val_accuracy: 0.8835\n",
            "Epoch 15/40\n",
            "267/267 [==============================] - 2s 6ms/step - loss: 0.2384 - accuracy: 0.9005 - val_loss: 0.2668 - val_accuracy: 0.8877\n",
            "Epoch 16/40\n",
            "267/267 [==============================] - 2s 6ms/step - loss: 0.2314 - accuracy: 0.9011 - val_loss: 0.2812 - val_accuracy: 0.8772\n",
            "Epoch 17/40\n",
            "267/267 [==============================] - 2s 6ms/step - loss: 0.2296 - accuracy: 0.9046 - val_loss: 0.2688 - val_accuracy: 0.8893\n",
            "Epoch 18/40\n",
            "267/267 [==============================] - 2s 6ms/step - loss: 0.2262 - accuracy: 0.9071 - val_loss: 0.2659 - val_accuracy: 0.8909\n",
            "Epoch 19/40\n",
            "267/267 [==============================] - 2s 6ms/step - loss: 0.2165 - accuracy: 0.9098 - val_loss: 0.2774 - val_accuracy: 0.8830\n",
            "Epoch 20/40\n",
            "267/267 [==============================] - 2s 6ms/step - loss: 0.2142 - accuracy: 0.9098 - val_loss: 0.2676 - val_accuracy: 0.8877\n",
            "Epoch 21/40\n",
            "267/267 [==============================] - 2s 6ms/step - loss: 0.2087 - accuracy: 0.9156 - val_loss: 0.2530 - val_accuracy: 0.8925\n",
            "Epoch 22/40\n",
            "267/267 [==============================] - 2s 6ms/step - loss: 0.2038 - accuracy: 0.9152 - val_loss: 0.2948 - val_accuracy: 0.8756\n",
            "Epoch 23/40\n",
            "267/267 [==============================] - 2s 6ms/step - loss: 0.1956 - accuracy: 0.9210 - val_loss: 0.2524 - val_accuracy: 0.8998\n",
            "Epoch 24/40\n",
            "267/267 [==============================] - 2s 6ms/step - loss: 0.1961 - accuracy: 0.9213 - val_loss: 0.2556 - val_accuracy: 0.8988\n",
            "Epoch 25/40\n",
            "267/267 [==============================] - 2s 6ms/step - loss: 0.1876 - accuracy: 0.9230 - val_loss: 0.2573 - val_accuracy: 0.8977\n",
            "Epoch 26/40\n",
            "267/267 [==============================] - 2s 6ms/step - loss: 0.1847 - accuracy: 0.9247 - val_loss: 0.2634 - val_accuracy: 0.8872\n",
            "Epoch 27/40\n",
            "267/267 [==============================] - 2s 6ms/step - loss: 0.1807 - accuracy: 0.9293 - val_loss: 0.2637 - val_accuracy: 0.8956\n",
            "Epoch 28/40\n",
            "267/267 [==============================] - 2s 6ms/step - loss: 0.1732 - accuracy: 0.9313 - val_loss: 0.2485 - val_accuracy: 0.8972\n",
            "Epoch 29/40\n",
            "267/267 [==============================] - 2s 6ms/step - loss: 0.1702 - accuracy: 0.9307 - val_loss: 0.2526 - val_accuracy: 0.8988\n",
            "Epoch 30/40\n",
            "267/267 [==============================] - 2s 6ms/step - loss: 0.1647 - accuracy: 0.9333 - val_loss: 0.2567 - val_accuracy: 0.8951\n",
            "Epoch 31/40\n",
            "267/267 [==============================] - 2s 6ms/step - loss: 0.1629 - accuracy: 0.9361 - val_loss: 0.2735 - val_accuracy: 0.8914\n",
            "Epoch 32/40\n",
            "267/267 [==============================] - 2s 6ms/step - loss: 0.1596 - accuracy: 0.9361 - val_loss: 0.2583 - val_accuracy: 0.8977\n",
            "Epoch 33/40\n",
            "267/267 [==============================] - 2s 6ms/step - loss: 0.1555 - accuracy: 0.9384 - val_loss: 0.2550 - val_accuracy: 0.9025\n",
            "Epoch 34/40\n",
            "267/267 [==============================] - 2s 6ms/step - loss: 0.1498 - accuracy: 0.9416 - val_loss: 0.2558 - val_accuracy: 0.9025\n",
            "Epoch 35/40\n",
            "267/267 [==============================] - 2s 6ms/step - loss: 0.1459 - accuracy: 0.9426 - val_loss: 0.2577 - val_accuracy: 0.8998\n",
            "Epoch 36/40\n",
            "267/267 [==============================] - 2s 6ms/step - loss: 0.1407 - accuracy: 0.9446 - val_loss: 0.2743 - val_accuracy: 0.8904\n",
            "Epoch 37/40\n",
            "267/267 [==============================] - 2s 6ms/step - loss: 0.1391 - accuracy: 0.9476 - val_loss: 0.2870 - val_accuracy: 0.8846\n",
            "Epoch 38/40\n",
            "267/267 [==============================] - 2s 6ms/step - loss: 0.1355 - accuracy: 0.9467 - val_loss: 0.2716 - val_accuracy: 0.8988\n",
            "Epoch 39/40\n",
            "267/267 [==============================] - 2s 6ms/step - loss: 0.1328 - accuracy: 0.9479 - val_loss: 0.2522 - val_accuracy: 0.9035\n",
            "Epoch 40/40\n",
            "267/267 [==============================] - 2s 6ms/step - loss: 0.1281 - accuracy: 0.9504 - val_loss: 0.2796 - val_accuracy: 0.8988\n"
          ],
          "name": "stdout"
        }
      ]
    },
    {
      "cell_type": "markdown",
      "metadata": {
        "id": "Gife5lhY4YvS"
      },
      "source": [
        "### Evaluation of training history"
      ]
    },
    {
      "cell_type": "code",
      "metadata": {
        "colab": {
          "base_uri": "https://localhost:8080/",
          "height": 542
        },
        "id": "pFW7Of2Z3Gs6",
        "outputId": "1da71597-9e52-4b28-93d8-21b05efca52c"
      },
      "source": [
        "fig = px.line(title='Training History')\n",
        "fig.add_scatter(x=list(range(1,21)), y=history.history['loss'],mode='lines', name='loss')\n",
        "fig.add_scatter(x=list(range(1,21)), y=history.history['val_loss'], mode='lines', name='val_loss' )\n",
        "fig.update_layout(xaxis_title=\"Epochs\",\n",
        "                  yaxis_title=\"Loss\",\n",
        "                  )\n",
        "# fig.add_scatter(history.history, y='val_loss')\n",
        "fig.show()"
      ],
      "execution_count": null,
      "outputs": [
        {
          "output_type": "display_data",
          "data": {
            "text/html": [
              "<html>\n",
              "<head><meta charset=\"utf-8\" /></head>\n",
              "<body>\n",
              "    <div>\n",
              "            <script src=\"https://cdnjs.cloudflare.com/ajax/libs/mathjax/2.7.5/MathJax.js?config=TeX-AMS-MML_SVG\"></script><script type=\"text/javascript\">if (window.MathJax) {MathJax.Hub.Config({SVG: {font: \"STIX-Web\"}});}</script>\n",
              "                <script type=\"text/javascript\">window.PlotlyConfig = {MathJaxConfig: 'local'};</script>\n",
              "        <script src=\"https://cdn.plot.ly/plotly-latest.min.js\"></script>    \n",
              "            <div id=\"8dd8b8a4-421b-4db8-a340-fe1079677177\" class=\"plotly-graph-div\" style=\"height:525px; width:100%;\"></div>\n",
              "            <script type=\"text/javascript\">\n",
              "                \n",
              "                    window.PLOTLYENV=window.PLOTLYENV || {};\n",
              "                    \n",
              "                if (document.getElementById(\"8dd8b8a4-421b-4db8-a340-fe1079677177\")) {\n",
              "                    Plotly.newPlot(\n",
              "                        '8dd8b8a4-421b-4db8-a340-fe1079677177',\n",
              "                        [{\"mode\": \"lines\", \"name\": \"loss\", \"type\": \"scatter\", \"x\": [1, 2, 3, 4, 5, 6, 7, 8, 9, 10, 11, 12, 13, 14, 15, 16, 17, 18, 19, 20], \"y\": [0.5352668762207031, 0.4029337167739868, 0.3581242561340332, 0.33330780267715454, 0.31704995036125183, 0.30565494298934937, 0.2957104742527008, 0.28538817167282104, 0.27901214361190796, 0.26953187584877014, 0.2639175355434418, 0.2547435760498047, 0.24924713373184204, 0.2436928004026413, 0.238371804356575, 0.23143810033798218, 0.22963127493858337, 0.22617198526859283, 0.21647018194198608, 0.21419066190719604, 0.20869572460651398, 0.2038356363773346, 0.19564975798130035, 0.1961091011762619, 0.1876249760389328, 0.18470963835716248, 0.18074828386306763, 0.17317451536655426, 0.17016831040382385, 0.164739727973938, 0.16287770867347717, 0.15961043536663055, 0.15547674894332886, 0.14980624616146088, 0.14592793583869934, 0.14071188867092133, 0.13909298181533813, 0.1354733556509018, 0.1328219771385193, 0.12808726727962494]}, {\"mode\": \"lines\", \"name\": \"val_loss\", \"type\": \"scatter\", \"x\": [1, 2, 3, 4, 5, 6, 7, 8, 9, 10, 11, 12, 13, 14, 15, 16, 17, 18, 19, 20], \"y\": [0.5893780589103699, 0.39746806025505066, 0.3406766355037689, 0.3236314058303833, 0.32641229033470154, 0.3398250341415405, 0.3058936297893524, 0.30586501955986023, 0.2894582450389862, 0.2792102098464966, 0.28292813897132874, 0.2794939875602722, 0.2843269407749176, 0.26899978518486023, 0.266844242811203, 0.28115424513816833, 0.2688395082950592, 0.2659260034561157, 0.27743032574653625, 0.26764431595802307, 0.2530038058757782, 0.29484495520591736, 0.25236523151397705, 0.2556350529193878, 0.25732001662254333, 0.2634204626083374, 0.26367294788360596, 0.24850645661354065, 0.25259697437286377, 0.25671908259391785, 0.27346619963645935, 0.25830772519111633, 0.254955530166626, 0.255823016166687, 0.257744163274765, 0.2742798328399658, 0.28696209192276, 0.27158716320991516, 0.25215843319892883, 0.27961233258247375]}],\n",
              "                        {\"legend\": {\"tracegroupgap\": 0}, \"template\": {\"data\": {\"bar\": [{\"error_x\": {\"color\": \"#2a3f5f\"}, \"error_y\": {\"color\": \"#2a3f5f\"}, \"marker\": {\"line\": {\"color\": \"#E5ECF6\", \"width\": 0.5}}, \"type\": \"bar\"}], \"barpolar\": [{\"marker\": {\"line\": {\"color\": \"#E5ECF6\", \"width\": 0.5}}, \"type\": \"barpolar\"}], \"carpet\": [{\"aaxis\": {\"endlinecolor\": \"#2a3f5f\", \"gridcolor\": \"white\", \"linecolor\": \"white\", \"minorgridcolor\": \"white\", \"startlinecolor\": \"#2a3f5f\"}, \"baxis\": {\"endlinecolor\": \"#2a3f5f\", \"gridcolor\": \"white\", \"linecolor\": \"white\", \"minorgridcolor\": \"white\", \"startlinecolor\": \"#2a3f5f\"}, \"type\": \"carpet\"}], \"choropleth\": [{\"colorbar\": {\"outlinewidth\": 0, \"ticks\": \"\"}, \"type\": \"choropleth\"}], \"contour\": [{\"colorbar\": {\"outlinewidth\": 0, \"ticks\": \"\"}, \"colorscale\": [[0.0, \"#0d0887\"], [0.1111111111111111, \"#46039f\"], [0.2222222222222222, \"#7201a8\"], [0.3333333333333333, \"#9c179e\"], [0.4444444444444444, \"#bd3786\"], [0.5555555555555556, \"#d8576b\"], [0.6666666666666666, \"#ed7953\"], [0.7777777777777778, \"#fb9f3a\"], [0.8888888888888888, \"#fdca26\"], [1.0, \"#f0f921\"]], \"type\": \"contour\"}], \"contourcarpet\": [{\"colorbar\": {\"outlinewidth\": 0, \"ticks\": \"\"}, \"type\": \"contourcarpet\"}], \"heatmap\": [{\"colorbar\": {\"outlinewidth\": 0, \"ticks\": \"\"}, \"colorscale\": [[0.0, \"#0d0887\"], [0.1111111111111111, \"#46039f\"], [0.2222222222222222, \"#7201a8\"], [0.3333333333333333, \"#9c179e\"], [0.4444444444444444, \"#bd3786\"], [0.5555555555555556, \"#d8576b\"], [0.6666666666666666, \"#ed7953\"], [0.7777777777777778, \"#fb9f3a\"], [0.8888888888888888, \"#fdca26\"], [1.0, \"#f0f921\"]], \"type\": \"heatmap\"}], \"heatmapgl\": [{\"colorbar\": {\"outlinewidth\": 0, \"ticks\": \"\"}, \"colorscale\": [[0.0, \"#0d0887\"], [0.1111111111111111, \"#46039f\"], [0.2222222222222222, \"#7201a8\"], [0.3333333333333333, \"#9c179e\"], [0.4444444444444444, \"#bd3786\"], [0.5555555555555556, \"#d8576b\"], [0.6666666666666666, \"#ed7953\"], [0.7777777777777778, \"#fb9f3a\"], [0.8888888888888888, \"#fdca26\"], [1.0, \"#f0f921\"]], \"type\": \"heatmapgl\"}], \"histogram\": [{\"marker\": {\"colorbar\": {\"outlinewidth\": 0, \"ticks\": \"\"}}, \"type\": \"histogram\"}], \"histogram2d\": [{\"colorbar\": {\"outlinewidth\": 0, \"ticks\": \"\"}, \"colorscale\": [[0.0, \"#0d0887\"], [0.1111111111111111, \"#46039f\"], [0.2222222222222222, \"#7201a8\"], [0.3333333333333333, \"#9c179e\"], [0.4444444444444444, \"#bd3786\"], [0.5555555555555556, \"#d8576b\"], [0.6666666666666666, \"#ed7953\"], [0.7777777777777778, \"#fb9f3a\"], [0.8888888888888888, \"#fdca26\"], [1.0, \"#f0f921\"]], \"type\": \"histogram2d\"}], \"histogram2dcontour\": [{\"colorbar\": {\"outlinewidth\": 0, \"ticks\": \"\"}, \"colorscale\": [[0.0, \"#0d0887\"], [0.1111111111111111, \"#46039f\"], [0.2222222222222222, \"#7201a8\"], [0.3333333333333333, \"#9c179e\"], [0.4444444444444444, \"#bd3786\"], [0.5555555555555556, \"#d8576b\"], [0.6666666666666666, \"#ed7953\"], [0.7777777777777778, \"#fb9f3a\"], [0.8888888888888888, \"#fdca26\"], [1.0, \"#f0f921\"]], \"type\": \"histogram2dcontour\"}], \"mesh3d\": [{\"colorbar\": {\"outlinewidth\": 0, \"ticks\": \"\"}, \"type\": \"mesh3d\"}], \"parcoords\": [{\"line\": {\"colorbar\": {\"outlinewidth\": 0, \"ticks\": \"\"}}, \"type\": \"parcoords\"}], \"pie\": [{\"automargin\": true, \"type\": \"pie\"}], \"scatter\": [{\"marker\": {\"colorbar\": {\"outlinewidth\": 0, \"ticks\": \"\"}}, \"type\": \"scatter\"}], \"scatter3d\": [{\"line\": {\"colorbar\": {\"outlinewidth\": 0, \"ticks\": \"\"}}, \"marker\": {\"colorbar\": {\"outlinewidth\": 0, \"ticks\": \"\"}}, \"type\": \"scatter3d\"}], \"scattercarpet\": [{\"marker\": {\"colorbar\": {\"outlinewidth\": 0, \"ticks\": \"\"}}, \"type\": \"scattercarpet\"}], \"scattergeo\": [{\"marker\": {\"colorbar\": {\"outlinewidth\": 0, \"ticks\": \"\"}}, \"type\": \"scattergeo\"}], \"scattergl\": [{\"marker\": {\"colorbar\": {\"outlinewidth\": 0, \"ticks\": \"\"}}, \"type\": \"scattergl\"}], \"scattermapbox\": [{\"marker\": {\"colorbar\": {\"outlinewidth\": 0, \"ticks\": \"\"}}, \"type\": \"scattermapbox\"}], \"scatterpolar\": [{\"marker\": {\"colorbar\": {\"outlinewidth\": 0, \"ticks\": \"\"}}, \"type\": \"scatterpolar\"}], \"scatterpolargl\": [{\"marker\": {\"colorbar\": {\"outlinewidth\": 0, \"ticks\": \"\"}}, \"type\": \"scatterpolargl\"}], \"scatterternary\": [{\"marker\": {\"colorbar\": {\"outlinewidth\": 0, \"ticks\": \"\"}}, \"type\": \"scatterternary\"}], \"surface\": [{\"colorbar\": {\"outlinewidth\": 0, \"ticks\": \"\"}, \"colorscale\": [[0.0, \"#0d0887\"], [0.1111111111111111, \"#46039f\"], [0.2222222222222222, \"#7201a8\"], [0.3333333333333333, \"#9c179e\"], [0.4444444444444444, \"#bd3786\"], [0.5555555555555556, \"#d8576b\"], [0.6666666666666666, \"#ed7953\"], [0.7777777777777778, \"#fb9f3a\"], [0.8888888888888888, \"#fdca26\"], [1.0, \"#f0f921\"]], \"type\": \"surface\"}], \"table\": [{\"cells\": {\"fill\": {\"color\": \"#EBF0F8\"}, \"line\": {\"color\": \"white\"}}, \"header\": {\"fill\": {\"color\": \"#C8D4E3\"}, \"line\": {\"color\": \"white\"}}, \"type\": \"table\"}]}, \"layout\": {\"annotationdefaults\": {\"arrowcolor\": \"#2a3f5f\", \"arrowhead\": 0, \"arrowwidth\": 1}, \"coloraxis\": {\"colorbar\": {\"outlinewidth\": 0, \"ticks\": \"\"}}, \"colorscale\": {\"diverging\": [[0, \"#8e0152\"], [0.1, \"#c51b7d\"], [0.2, \"#de77ae\"], [0.3, \"#f1b6da\"], [0.4, \"#fde0ef\"], [0.5, \"#f7f7f7\"], [0.6, \"#e6f5d0\"], [0.7, \"#b8e186\"], [0.8, \"#7fbc41\"], [0.9, \"#4d9221\"], [1, \"#276419\"]], \"sequential\": [[0.0, \"#0d0887\"], [0.1111111111111111, \"#46039f\"], [0.2222222222222222, \"#7201a8\"], [0.3333333333333333, \"#9c179e\"], [0.4444444444444444, \"#bd3786\"], [0.5555555555555556, \"#d8576b\"], [0.6666666666666666, \"#ed7953\"], [0.7777777777777778, \"#fb9f3a\"], [0.8888888888888888, \"#fdca26\"], [1.0, \"#f0f921\"]], \"sequentialminus\": [[0.0, \"#0d0887\"], [0.1111111111111111, \"#46039f\"], [0.2222222222222222, \"#7201a8\"], [0.3333333333333333, \"#9c179e\"], [0.4444444444444444, \"#bd3786\"], [0.5555555555555556, \"#d8576b\"], [0.6666666666666666, \"#ed7953\"], [0.7777777777777778, \"#fb9f3a\"], [0.8888888888888888, \"#fdca26\"], [1.0, \"#f0f921\"]]}, \"colorway\": [\"#636efa\", \"#EF553B\", \"#00cc96\", \"#ab63fa\", \"#FFA15A\", \"#19d3f3\", \"#FF6692\", \"#B6E880\", \"#FF97FF\", \"#FECB52\"], \"font\": {\"color\": \"#2a3f5f\"}, \"geo\": {\"bgcolor\": \"white\", \"lakecolor\": \"white\", \"landcolor\": \"#E5ECF6\", \"showlakes\": true, \"showland\": true, \"subunitcolor\": \"white\"}, \"hoverlabel\": {\"align\": \"left\"}, \"hovermode\": \"closest\", \"mapbox\": {\"style\": \"light\"}, \"paper_bgcolor\": \"white\", \"plot_bgcolor\": \"#E5ECF6\", \"polar\": {\"angularaxis\": {\"gridcolor\": \"white\", \"linecolor\": \"white\", \"ticks\": \"\"}, \"bgcolor\": \"#E5ECF6\", \"radialaxis\": {\"gridcolor\": \"white\", \"linecolor\": \"white\", \"ticks\": \"\"}}, \"scene\": {\"xaxis\": {\"backgroundcolor\": \"#E5ECF6\", \"gridcolor\": \"white\", \"gridwidth\": 2, \"linecolor\": \"white\", \"showbackground\": true, \"ticks\": \"\", \"zerolinecolor\": \"white\"}, \"yaxis\": {\"backgroundcolor\": \"#E5ECF6\", \"gridcolor\": \"white\", \"gridwidth\": 2, \"linecolor\": \"white\", \"showbackground\": true, \"ticks\": \"\", \"zerolinecolor\": \"white\"}, \"zaxis\": {\"backgroundcolor\": \"#E5ECF6\", \"gridcolor\": \"white\", \"gridwidth\": 2, \"linecolor\": \"white\", \"showbackground\": true, \"ticks\": \"\", \"zerolinecolor\": \"white\"}}, \"shapedefaults\": {\"line\": {\"color\": \"#2a3f5f\"}}, \"ternary\": {\"aaxis\": {\"gridcolor\": \"white\", \"linecolor\": \"white\", \"ticks\": \"\"}, \"baxis\": {\"gridcolor\": \"white\", \"linecolor\": \"white\", \"ticks\": \"\"}, \"bgcolor\": \"#E5ECF6\", \"caxis\": {\"gridcolor\": \"white\", \"linecolor\": \"white\", \"ticks\": \"\"}}, \"title\": {\"x\": 0.05}, \"xaxis\": {\"automargin\": true, \"gridcolor\": \"white\", \"linecolor\": \"white\", \"ticks\": \"\", \"title\": {\"standoff\": 15}, \"zerolinecolor\": \"white\", \"zerolinewidth\": 2}, \"yaxis\": {\"automargin\": true, \"gridcolor\": \"white\", \"linecolor\": \"white\", \"ticks\": \"\", \"title\": {\"standoff\": 15}, \"zerolinecolor\": \"white\", \"zerolinewidth\": 2}}}, \"title\": {\"text\": \"Training History\"}, \"xaxis\": {\"anchor\": \"y\", \"domain\": [0.0, 1.0], \"title\": {\"text\": \"Epochs\"}}, \"yaxis\": {\"anchor\": \"x\", \"domain\": [0.0, 1.0], \"title\": {\"text\": \"Loss\"}}},\n",
              "                        {\"responsive\": true}\n",
              "                    ).then(function(){\n",
              "                            \n",
              "var gd = document.getElementById('8dd8b8a4-421b-4db8-a340-fe1079677177');\n",
              "var x = new MutationObserver(function (mutations, observer) {{\n",
              "        var display = window.getComputedStyle(gd).display;\n",
              "        if (!display || display === 'none') {{\n",
              "            console.log([gd, 'removed!']);\n",
              "            Plotly.purge(gd);\n",
              "            observer.disconnect();\n",
              "        }}\n",
              "}});\n",
              "\n",
              "// Listen for the removal of the full notebook cells\n",
              "var notebookContainer = gd.closest('#notebook-container');\n",
              "if (notebookContainer) {{\n",
              "    x.observe(notebookContainer, {childList: true});\n",
              "}}\n",
              "\n",
              "// Listen for the clearing of the current output cell\n",
              "var outputEl = gd.closest('.output');\n",
              "if (outputEl) {{\n",
              "    x.observe(outputEl, {childList: true});\n",
              "}}\n",
              "\n",
              "                        })\n",
              "                };\n",
              "                \n",
              "            </script>\n",
              "        </div>\n",
              "</body>\n",
              "</html>"
            ]
          },
          "metadata": {
            "tags": []
          }
        }
      ]
    },
    {
      "cell_type": "markdown",
      "metadata": {
        "id": "OtfoHL1O7uXm"
      },
      "source": [
        "### Test accuracy and loss"
      ]
    },
    {
      "cell_type": "code",
      "metadata": {
        "colab": {
          "base_uri": "https://localhost:8080/"
        },
        "id": "7i1JRaCF7ruf",
        "outputId": "d780d310-91c7-488c-8eee-b1ef7a76be7e"
      },
      "source": [
        "loss, acc = model.evaluate(X_test,y_test,verbose=0)\n",
        "print('Test loss: {}'.format(loss))\n",
        "print('Test Accuracy: {}'.format(acc))"
      ],
      "execution_count": null,
      "outputs": [
        {
          "output_type": "stream",
          "text": [
            "Test loss: 0.24889977276325226\n",
            "Test Accuracy: 0.9000210762023926\n"
          ],
          "name": "stdout"
        }
      ]
    },
    {
      "cell_type": "markdown",
      "metadata": {
        "id": "YJQiq5bG8NrM"
      },
      "source": [
        "### Callback for this model"
      ]
    },
    {
      "cell_type": "code",
      "metadata": {
        "id": "pv8-zQiq75MU"
      },
      "source": [
        "## Stop training when validation loss reach 0.2700\n",
        "class myCallback(tf.keras.callbacks.Callback):\n",
        "    def on_epoch_end(self, epoch, logs={}):\n",
        "        if(logs.get('val_loss')<0.2700):\n",
        "            print(\"\\nReached 0.2700 val_loss so cancelling training!\")\n",
        "            self.model.stop_training = True\n",
        "        \n",
        "callback = myCallback()"
      ],
      "execution_count": null,
      "outputs": []
    },
    {
      "cell_type": "markdown",
      "metadata": {
        "id": "dNg86kNN8ZBb"
      },
      "source": [
        "### Model training with callback"
      ]
    },
    {
      "cell_type": "code",
      "metadata": {
        "colab": {
          "base_uri": "https://localhost:8080/"
        },
        "id": "tYkmUyoo8UN5",
        "outputId": "ae91628c-6dea-4cc2-cfc3-c4fa5cbf3204"
      },
      "source": [
        "model = tf.keras.Sequential(name=\"SapiensNet\")\n",
        "model.add(tf.keras.Input(shape=(48,48,1)))\n",
        "model.add(L.Conv2D(32, 3, activation='relu'))\n",
        "model.add(L.BatchNormalization())\n",
        "model.add(L.MaxPool2D(pool_size=(2,2))),\n",
        "model.add(L.Conv2D(64, 3, activation='relu'))\n",
        "model.add(L.MaxPool2D(pool_size=(2,2)))\n",
        "model.add(L.Flatten())\n",
        "model.add(L.Dense(64, activation='relu'))\n",
        "model.add(L.Dropout(0.5))\n",
        "model.add(L.Dense(1, activation='sigmoid'))\n",
        "\n",
        "sgd = tf.keras.optimizers.SGD(momentum=0.9)\n",
        "model.compile(optimizer='sgd',\n",
        "              loss=tf.keras.losses.BinaryCrossentropy(),\n",
        "              metrics=['accuracy'])\n",
        "history = model.fit(\n",
        "    X_train, y_train, epochs=20, validation_split=0.1, batch_size=64, callbacks=[callback]\n",
        ")"
      ],
      "execution_count": null,
      "outputs": [
        {
          "output_type": "stream",
          "text": [
            "Epoch 1/20\n",
            "267/267 [==============================] - 53s 200ms/step - loss: 0.5250 - accuracy: 0.7376 - val_loss: 0.5998 - val_accuracy: 0.7881\n",
            "Epoch 2/20\n",
            "267/267 [==============================] - 53s 199ms/step - loss: 0.4026 - accuracy: 0.8198 - val_loss: 0.4114 - val_accuracy: 0.8413\n",
            "Epoch 3/20\n",
            "267/267 [==============================] - 53s 200ms/step - loss: 0.3575 - accuracy: 0.8413 - val_loss: 0.3403 - val_accuracy: 0.8519\n",
            "Epoch 4/20\n",
            "267/267 [==============================] - 53s 200ms/step - loss: 0.3303 - accuracy: 0.8545 - val_loss: 0.3131 - val_accuracy: 0.8645\n",
            "Epoch 5/20\n",
            "267/267 [==============================] - 54s 202ms/step - loss: 0.3139 - accuracy: 0.8614 - val_loss: 0.3135 - val_accuracy: 0.8640\n",
            "Epoch 6/20\n",
            "267/267 [==============================] - 54s 202ms/step - loss: 0.3037 - accuracy: 0.8649 - val_loss: 0.2966 - val_accuracy: 0.8698\n",
            "Epoch 7/20\n",
            "267/267 [==============================] - 54s 203ms/step - loss: 0.2893 - accuracy: 0.8738 - val_loss: 0.2910 - val_accuracy: 0.8740\n",
            "Epoch 8/20\n",
            "267/267 [==============================] - 54s 201ms/step - loss: 0.2820 - accuracy: 0.8792 - val_loss: 0.2863 - val_accuracy: 0.8730\n",
            "Epoch 9/20\n",
            "267/267 [==============================] - 54s 201ms/step - loss: 0.2755 - accuracy: 0.8804 - val_loss: 0.2925 - val_accuracy: 0.8714\n",
            "Epoch 10/20\n",
            "267/267 [==============================] - 53s 200ms/step - loss: 0.2648 - accuracy: 0.8871 - val_loss: 0.2730 - val_accuracy: 0.8824\n",
            "Epoch 11/20\n",
            "267/267 [==============================] - 55s 205ms/step - loss: 0.2584 - accuracy: 0.8884 - val_loss: 0.2758 - val_accuracy: 0.8814\n",
            "Epoch 12/20\n",
            "267/267 [==============================] - 54s 200ms/step - loss: 0.2540 - accuracy: 0.8926 - val_loss: 0.2745 - val_accuracy: 0.8803\n",
            "Epoch 13/20\n",
            "267/267 [==============================] - 53s 200ms/step - loss: 0.2462 - accuracy: 0.8962 - val_loss: 0.2759 - val_accuracy: 0.8766\n",
            "Epoch 14/20\n",
            "267/267 [==============================] - 53s 200ms/step - loss: 0.2412 - accuracy: 0.8963 - val_loss: 0.2786 - val_accuracy: 0.8782\n",
            "Epoch 15/20\n",
            "267/267 [==============================] - ETA: 0s - loss: 0.2373 - accuracy: 0.9021\n",
            "Reached 0.2700 val_loss so cancelling training!\n",
            "267/267 [==============================] - 54s 201ms/step - loss: 0.2373 - accuracy: 0.9021 - val_loss: 0.2649 - val_accuracy: 0.8861\n"
          ],
          "name": "stdout"
        }
      ]
    },
    {
      "cell_type": "markdown",
      "metadata": {
        "id": "TNA6tW5RCwNi"
      },
      "source": [
        "### Test accuracy and loss"
      ]
    },
    {
      "cell_type": "code",
      "metadata": {
        "colab": {
          "base_uri": "https://localhost:8080/"
        },
        "id": "Lk2yd-cf8bSw",
        "outputId": "0648a540-c6e4-4fb6-ea27-865909df6de4"
      },
      "source": [
        "loss, acc = model.evaluate(X_test,y_test,verbose=0)\n",
        "print('Test loss: {}'.format(loss))\n",
        "print('Test Accuracy: {}'.format(acc))"
      ],
      "execution_count": null,
      "outputs": [
        {
          "output_type": "stream",
          "text": [
            "Test loss: 0.2564677894115448\n",
            "Test Accuracy: 0.8854671716690063\n"
          ],
          "name": "stdout"
        }
      ]
    },
    {
      "cell_type": "code",
      "metadata": {
        "id": "PXX2nClpCyfs"
      },
      "source": [
        ""
      ],
      "execution_count": null,
      "outputs": []
    }
  ]
}